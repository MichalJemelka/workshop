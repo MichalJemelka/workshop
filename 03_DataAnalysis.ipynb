{
 "cells": [
  {
   "cell_type": "markdown",
   "metadata": {
    "id": "8DxYohDrNqTX"
   },
   "source": [
    "# Introduction - Exploratory Analysis\n",
    "\n",
    "In this notebook, we will conduct an analysis of the data previously prepared in the path: `data/interim/hockey_teams.json`. This file, being partially processed, is easily accessible for import and ready for more detailed analytical examination.\n",
    "\n",
    "This part of the workshop will focus on utilizing `pandas` and `matplotlib`, which were discussed during the course. The main objective is to familiarize ourselves with the dataset we are working on. Through a series of exercises:  \n",
    "- we will get to know the structure of the data,  \n",
    "- we will conduct elementary data exploration (EDA).\n",
    "\n",
    "## Column Description\n",
    "\n",
    "Below is a brief description of each column in our dataset:\n",
    "\n",
    "- **Team Name**: The name of the team participating in the match.\n",
    "- **Year**: The year in which the season takes place.\n",
    "- **Wins**: The number of matches won by the team in the given season.\n",
    "- **Losses**: The number of matches lost by the team in the given season.\n",
    "- **OT Losses**: The number of matches lost by the team in overtime in the given season.\n",
    "- **Win %**: The percentage of matches won by the team in the given season.\n",
    "- **Goals For (GF)**: The number of goals scored by the team in the given season.\n",
    "- **Goals Against (GA)**: The number of goals conceded by the team in the given season.\n",
    "- **+ / -**: The difference between the number of goals scored and conceded by the team in the given season.\n",
    "\n",
    "> Note: At this stage, certain significant simplifications were intentionally made in the analysis and they will not be explicitly mentioned, aiming for a discussion at the end of the workshop."
   ]
  },
  {
   "cell_type": "markdown",
   "metadata": {
    "id": "-vX3ioL9NqTZ"
   },
   "source": [
    "# Preparation\n",
    "\n",
    "## Import libraries\n",
    "Here, load the libraries that will be needed in the following steps"
   ]
  },
  {
   "cell_type": "code",
   "execution_count": 1,
   "metadata": {
    "id": "55AHPLYHNqTZ"
   },
   "outputs": [
    {
     "name": "stdout",
     "output_type": "stream",
     "text": [
      "Načteno 607 řádků a 9 sloupců\n"
     ]
    },
    {
     "data": {
      "text/html": [
       "<div>\n",
       "<style scoped>\n",
       "    .dataframe tbody tr th:only-of-type {\n",
       "        vertical-align: middle;\n",
       "    }\n",
       "\n",
       "    .dataframe tbody tr th {\n",
       "        vertical-align: top;\n",
       "    }\n",
       "\n",
       "    .dataframe thead th {\n",
       "        text-align: right;\n",
       "    }\n",
       "</style>\n",
       "<table border=\"1\" class=\"dataframe\">\n",
       "  <thead>\n",
       "    <tr style=\"text-align: right;\">\n",
       "      <th></th>\n",
       "      <th>Team Name</th>\n",
       "      <th>Year</th>\n",
       "      <th>Wins</th>\n",
       "      <th>Losses</th>\n",
       "      <th>OT Losses</th>\n",
       "      <th>Win %</th>\n",
       "      <th>Goals For (GF)</th>\n",
       "      <th>Goals Against (GA)</th>\n",
       "      <th>+ / -</th>\n",
       "    </tr>\n",
       "  </thead>\n",
       "  <tbody>\n",
       "    <tr>\n",
       "      <th>0</th>\n",
       "      <td>Boston Bruins</td>\n",
       "      <td>1990</td>\n",
       "      <td>44</td>\n",
       "      <td>24</td>\n",
       "      <td>NaN</td>\n",
       "      <td>0.550</td>\n",
       "      <td>299</td>\n",
       "      <td>264</td>\n",
       "      <td>35</td>\n",
       "    </tr>\n",
       "    <tr>\n",
       "      <th>1</th>\n",
       "      <td>Buffalo Sabres</td>\n",
       "      <td>1990</td>\n",
       "      <td>31</td>\n",
       "      <td>30</td>\n",
       "      <td>NaN</td>\n",
       "      <td>0.388</td>\n",
       "      <td>292</td>\n",
       "      <td>278</td>\n",
       "      <td>14</td>\n",
       "    </tr>\n",
       "    <tr>\n",
       "      <th>2</th>\n",
       "      <td>Calgary Flames</td>\n",
       "      <td>1990</td>\n",
       "      <td>46</td>\n",
       "      <td>26</td>\n",
       "      <td>NaN</td>\n",
       "      <td>0.575</td>\n",
       "      <td>344</td>\n",
       "      <td>263</td>\n",
       "      <td>81</td>\n",
       "    </tr>\n",
       "    <tr>\n",
       "      <th>3</th>\n",
       "      <td>Chicago Blackhawks</td>\n",
       "      <td>1990</td>\n",
       "      <td>49</td>\n",
       "      <td>23</td>\n",
       "      <td>NaN</td>\n",
       "      <td>0.613</td>\n",
       "      <td>284</td>\n",
       "      <td>211</td>\n",
       "      <td>73</td>\n",
       "    </tr>\n",
       "    <tr>\n",
       "      <th>4</th>\n",
       "      <td>Detroit Red Wings</td>\n",
       "      <td>1990</td>\n",
       "      <td>34</td>\n",
       "      <td>38</td>\n",
       "      <td>NaN</td>\n",
       "      <td>0.425</td>\n",
       "      <td>273</td>\n",
       "      <td>298</td>\n",
       "      <td>-25</td>\n",
       "    </tr>\n",
       "  </tbody>\n",
       "</table>\n",
       "</div>"
      ],
      "text/plain": [
       "            Team Name  Year  Wins  Losses  OT Losses  Win %  Goals For (GF)  \\\n",
       "0       Boston Bruins  1990    44      24        NaN  0.550             299   \n",
       "1      Buffalo Sabres  1990    31      30        NaN  0.388             292   \n",
       "2      Calgary Flames  1990    46      26        NaN  0.575             344   \n",
       "3  Chicago Blackhawks  1990    49      23        NaN  0.613             284   \n",
       "4   Detroit Red Wings  1990    34      38        NaN  0.425             273   \n",
       "\n",
       "   Goals Against (GA)  + / -  \n",
       "0                 264     35  \n",
       "1                 278     14  \n",
       "2                 263     81  \n",
       "3                 211     73  \n",
       "4                 298    -25  "
      ]
     },
     "execution_count": 1,
     "metadata": {},
     "output_type": "execute_result"
    }
   ],
   "source": [
    "import pandas as pd\n",
    "import matplotlib.pyplot as plt\n",
    "import seaborn as sns\n",
    "from pathlib import Path\n",
    "import numpy as np\n",
    "\n",
    "plt.style.use(\"ggplot\")\n",
    "\n",
    "INTERIM_DIR = Path(\"data/interim\")\n",
    "data_path = INTERIM_DIR / \"hockey_teams.csv\"\n",
    "\n",
    "df = pd.read_csv(data_path)\n",
    "\n",
    "print(f\"Načteno {len(df)} řádků a {len(df.columns)} sloupců\")\n",
    "df.head()"
   ]
  },
  {
   "cell_type": "markdown",
   "metadata": {
    "id": "WA7Gm4xjNqTa"
   },
   "source": [
    "# Loading the Dataset\n",
    "\n",
    "We recommend loading the raw data into a variable with the suffix `_raw`. This will avoid the need to reload the data from the beginning in case of an error, which can be a time-consuming process.  \n",
    "  \n",
    "> **Tip:** A `json` file can be easily loaded using `pandas` with the `read_json` function - [click](https://pandas.pydata.org/docs/reference/api/pandas.read_json.html)  "
   ]
  },
  {
   "cell_type": "markdown",
   "metadata": {
    "id": "xbYDSnZXNqTa"
   },
   "source": [
    "Load data from the `hockey_teams` file here"
   ]
  },
  {
   "cell_type": "code",
   "execution_count": 2,
   "metadata": {
    "id": "NJ768oGnNqTa"
   },
   "outputs": [
    {
     "name": "stdout",
     "output_type": "stream",
     "text": [
      "Načteno 607 řádků a 9 sloupců\n"
     ]
    },
    {
     "data": {
      "text/html": [
       "<div>\n",
       "<style scoped>\n",
       "    .dataframe tbody tr th:only-of-type {\n",
       "        vertical-align: middle;\n",
       "    }\n",
       "\n",
       "    .dataframe tbody tr th {\n",
       "        vertical-align: top;\n",
       "    }\n",
       "\n",
       "    .dataframe thead th {\n",
       "        text-align: right;\n",
       "    }\n",
       "</style>\n",
       "<table border=\"1\" class=\"dataframe\">\n",
       "  <thead>\n",
       "    <tr style=\"text-align: right;\">\n",
       "      <th></th>\n",
       "      <th>Team Name</th>\n",
       "      <th>Year</th>\n",
       "      <th>Wins</th>\n",
       "      <th>Losses</th>\n",
       "      <th>OT Losses</th>\n",
       "      <th>Win %</th>\n",
       "      <th>Goals For (GF)</th>\n",
       "      <th>Goals Against (GA)</th>\n",
       "      <th>+ / -</th>\n",
       "    </tr>\n",
       "  </thead>\n",
       "  <tbody>\n",
       "    <tr>\n",
       "      <th>0</th>\n",
       "      <td>Boston Bruins</td>\n",
       "      <td>1990</td>\n",
       "      <td>44</td>\n",
       "      <td>24</td>\n",
       "      <td></td>\n",
       "      <td>0.550</td>\n",
       "      <td>299</td>\n",
       "      <td>264</td>\n",
       "      <td>35</td>\n",
       "    </tr>\n",
       "    <tr>\n",
       "      <th>1</th>\n",
       "      <td>Buffalo Sabres</td>\n",
       "      <td>1990</td>\n",
       "      <td>31</td>\n",
       "      <td>30</td>\n",
       "      <td></td>\n",
       "      <td>0.388</td>\n",
       "      <td>292</td>\n",
       "      <td>278</td>\n",
       "      <td>14</td>\n",
       "    </tr>\n",
       "    <tr>\n",
       "      <th>2</th>\n",
       "      <td>Calgary Flames</td>\n",
       "      <td>1990</td>\n",
       "      <td>46</td>\n",
       "      <td>26</td>\n",
       "      <td></td>\n",
       "      <td>0.575</td>\n",
       "      <td>344</td>\n",
       "      <td>263</td>\n",
       "      <td>81</td>\n",
       "    </tr>\n",
       "    <tr>\n",
       "      <th>3</th>\n",
       "      <td>Chicago Blackhawks</td>\n",
       "      <td>1990</td>\n",
       "      <td>49</td>\n",
       "      <td>23</td>\n",
       "      <td></td>\n",
       "      <td>0.613</td>\n",
       "      <td>284</td>\n",
       "      <td>211</td>\n",
       "      <td>73</td>\n",
       "    </tr>\n",
       "    <tr>\n",
       "      <th>4</th>\n",
       "      <td>Detroit Red Wings</td>\n",
       "      <td>1990</td>\n",
       "      <td>34</td>\n",
       "      <td>38</td>\n",
       "      <td></td>\n",
       "      <td>0.425</td>\n",
       "      <td>273</td>\n",
       "      <td>298</td>\n",
       "      <td>-25</td>\n",
       "    </tr>\n",
       "  </tbody>\n",
       "</table>\n",
       "</div>"
      ],
      "text/plain": [
       "            Team Name  Year  Wins  Losses OT Losses  Win %  Goals For (GF)  \\\n",
       "0       Boston Bruins  1990    44      24            0.550             299   \n",
       "1      Buffalo Sabres  1990    31      30            0.388             292   \n",
       "2      Calgary Flames  1990    46      26            0.575             344   \n",
       "3  Chicago Blackhawks  1990    49      23            0.613             284   \n",
       "4   Detroit Red Wings  1990    34      38            0.425             273   \n",
       "\n",
       "   Goals Against (GA)  + / -  \n",
       "0                 264     35  \n",
       "1                 278     14  \n",
       "2                 263     81  \n",
       "3                 211     73  \n",
       "4                 298    -25  "
      ]
     },
     "execution_count": 2,
     "metadata": {},
     "output_type": "execute_result"
    }
   ],
   "source": [
    "import pandas as pd\n",
    "from pathlib import Path\n",
    "\n",
    "data_path = Path(\"data/interim/hockey_teams.json\")\n",
    "\n",
    "df_raw = pd.read_json(data_path)\n",
    "\n",
    "print(f\"Načteno {len(df_raw)} řádků a {len(df_raw.columns)} sloupců\")\n",
    "df_raw.head()"
   ]
  },
  {
   "cell_type": "markdown",
   "metadata": {
    "id": "wpQxdnKsNqTa"
   },
   "source": [
    "Check here if the data loaded correctly"
   ]
  },
  {
   "cell_type": "code",
   "execution_count": 3,
   "metadata": {
    "id": "c-bBTbJ2NqTa"
   },
   "outputs": [
    {
     "name": "stdout",
     "output_type": "stream",
     "text": [
      "Přehled datového rámce:\n",
      "<class 'pandas.core.frame.DataFrame'>\n",
      "RangeIndex: 607 entries, 0 to 606\n",
      "Data columns (total 9 columns):\n",
      " #   Column              Non-Null Count  Dtype  \n",
      "---  ------              --------------  -----  \n",
      " 0   Team Name           607 non-null    object \n",
      " 1   Year                607 non-null    int64  \n",
      " 2   Wins                607 non-null    int64  \n",
      " 3   Losses              607 non-null    int64  \n",
      " 4   OT Losses           607 non-null    object \n",
      " 5   Win %               607 non-null    float64\n",
      " 6   Goals For (GF)      607 non-null    int64  \n",
      " 7   Goals Against (GA)  607 non-null    int64  \n",
      " 8   + / -               607 non-null    int64  \n",
      "dtypes: float64(1), int64(6), object(2)\n",
      "memory usage: 42.8+ KB\n",
      "None \n",
      "\n",
      "Ukázka prvních 5 záznamů:\n"
     ]
    },
    {
     "data": {
      "text/html": [
       "<div>\n",
       "<style scoped>\n",
       "    .dataframe tbody tr th:only-of-type {\n",
       "        vertical-align: middle;\n",
       "    }\n",
       "\n",
       "    .dataframe tbody tr th {\n",
       "        vertical-align: top;\n",
       "    }\n",
       "\n",
       "    .dataframe thead th {\n",
       "        text-align: right;\n",
       "    }\n",
       "</style>\n",
       "<table border=\"1\" class=\"dataframe\">\n",
       "  <thead>\n",
       "    <tr style=\"text-align: right;\">\n",
       "      <th></th>\n",
       "      <th>Team Name</th>\n",
       "      <th>Year</th>\n",
       "      <th>Wins</th>\n",
       "      <th>Losses</th>\n",
       "      <th>OT Losses</th>\n",
       "      <th>Win %</th>\n",
       "      <th>Goals For (GF)</th>\n",
       "      <th>Goals Against (GA)</th>\n",
       "      <th>+ / -</th>\n",
       "    </tr>\n",
       "  </thead>\n",
       "  <tbody>\n",
       "    <tr>\n",
       "      <th>0</th>\n",
       "      <td>Boston Bruins</td>\n",
       "      <td>1990</td>\n",
       "      <td>44</td>\n",
       "      <td>24</td>\n",
       "      <td></td>\n",
       "      <td>0.550</td>\n",
       "      <td>299</td>\n",
       "      <td>264</td>\n",
       "      <td>35</td>\n",
       "    </tr>\n",
       "    <tr>\n",
       "      <th>1</th>\n",
       "      <td>Buffalo Sabres</td>\n",
       "      <td>1990</td>\n",
       "      <td>31</td>\n",
       "      <td>30</td>\n",
       "      <td></td>\n",
       "      <td>0.388</td>\n",
       "      <td>292</td>\n",
       "      <td>278</td>\n",
       "      <td>14</td>\n",
       "    </tr>\n",
       "    <tr>\n",
       "      <th>2</th>\n",
       "      <td>Calgary Flames</td>\n",
       "      <td>1990</td>\n",
       "      <td>46</td>\n",
       "      <td>26</td>\n",
       "      <td></td>\n",
       "      <td>0.575</td>\n",
       "      <td>344</td>\n",
       "      <td>263</td>\n",
       "      <td>81</td>\n",
       "    </tr>\n",
       "    <tr>\n",
       "      <th>3</th>\n",
       "      <td>Chicago Blackhawks</td>\n",
       "      <td>1990</td>\n",
       "      <td>49</td>\n",
       "      <td>23</td>\n",
       "      <td></td>\n",
       "      <td>0.613</td>\n",
       "      <td>284</td>\n",
       "      <td>211</td>\n",
       "      <td>73</td>\n",
       "    </tr>\n",
       "    <tr>\n",
       "      <th>4</th>\n",
       "      <td>Detroit Red Wings</td>\n",
       "      <td>1990</td>\n",
       "      <td>34</td>\n",
       "      <td>38</td>\n",
       "      <td></td>\n",
       "      <td>0.425</td>\n",
       "      <td>273</td>\n",
       "      <td>298</td>\n",
       "      <td>-25</td>\n",
       "    </tr>\n",
       "  </tbody>\n",
       "</table>\n",
       "</div>"
      ],
      "text/plain": [
       "            Team Name  Year  Wins  Losses OT Losses  Win %  Goals For (GF)  \\\n",
       "0       Boston Bruins  1990    44      24            0.550             299   \n",
       "1      Buffalo Sabres  1990    31      30            0.388             292   \n",
       "2      Calgary Flames  1990    46      26            0.575             344   \n",
       "3  Chicago Blackhawks  1990    49      23            0.613             284   \n",
       "4   Detroit Red Wings  1990    34      38            0.425             273   \n",
       "\n",
       "   Goals Against (GA)  + / -  \n",
       "0                 264     35  \n",
       "1                 278     14  \n",
       "2                 263     81  \n",
       "3                 211     73  \n",
       "4                 298    -25  "
      ]
     },
     "metadata": {},
     "output_type": "display_data"
    },
    {
     "name": "stdout",
     "output_type": "stream",
     "text": [
      "Počet řádků: 607\n",
      "Počet sloupců: 9\n",
      "Počet záznamů bez názvu týmu: 0\n"
     ]
    }
   ],
   "source": [
    "print(\"Přehled datového rámce:\")\n",
    "print(df_raw.info(), \"\\n\")\n",
    "\n",
    "print(\"Ukázka prvních 5 záznamů:\")\n",
    "display(df_raw.head())\n",
    "\n",
    "print(f\"Počet řádků: {len(df_raw)}\")\n",
    "print(f\"Počet sloupců: {len(df_raw.columns)}\")\n",
    "\n",
    "empty_teams = df_raw[\"Team Name\"].isna().sum() + (df_raw[\"Team Name\"] == \"\").sum()\n",
    "print(f\"Počet záznamů bez názvu týmu: {empty_teams}\")"
   ]
  },
  {
   "cell_type": "markdown",
   "metadata": {
    "id": "TlHokevkNqTa"
   },
   "source": [
    "# Preliminary Data Transformation"
   ]
  },
  {
   "cell_type": "markdown",
   "metadata": {
    "id": "lNDcIA_bNqTb"
   },
   "source": [
    "## Standardizing Column Names\n",
    "\n",
    "Currently, our dataset contains original column names which, from a technical standpoint, should not contain spaces or other special characters.\n",
    "\n",
    "In this section, we will standardize and simplify the naming conventions to facilitate data processing in subsequent stages. We will apply the following column name mapping:\n",
    "\n",
    "- **Team Name** -> `team`\n",
    "- **Year** -> `season`\n",
    "- **Wins** -> `victories`\n",
    "- **Losses** -> `defeats`\n",
    "- **OT Losses** -> `overtime_defeats`\n",
    "- **Win %** -> `victory_percentage`\n",
    "- **Goals For (GF)** -> `scored_goals`\n",
    "- **Goals Against (GA)** -> `received_goals`\n",
    "- **\\+ / -** -> `goal_difference`\n",
    "\n",
    "> At this point, we recommend creating a new DataFrame without the `_raw` postfix. For example, if the data was loaded into the variable `df_raw`, we now want to work with the variable `df`, where we will modify the column names."
   ]
  },
  {
   "cell_type": "code",
   "execution_count": 4,
   "metadata": {
    "id": "N7B7kFzjNqTb"
   },
   "outputs": [
    {
     "name": "stdout",
     "output_type": "stream",
     "text": [
      "Přejmenování sloupců dokončeno.\n",
      "Nové názvy sloupců:\n",
      "['team', 'season', 'victories', 'defeats', 'overtime_defeats', 'victory_percentage', 'scored_goals', 'received_goals', 'goal_difference']\n"
     ]
    },
    {
     "data": {
      "text/html": [
       "<div>\n",
       "<style scoped>\n",
       "    .dataframe tbody tr th:only-of-type {\n",
       "        vertical-align: middle;\n",
       "    }\n",
       "\n",
       "    .dataframe tbody tr th {\n",
       "        vertical-align: top;\n",
       "    }\n",
       "\n",
       "    .dataframe thead th {\n",
       "        text-align: right;\n",
       "    }\n",
       "</style>\n",
       "<table border=\"1\" class=\"dataframe\">\n",
       "  <thead>\n",
       "    <tr style=\"text-align: right;\">\n",
       "      <th></th>\n",
       "      <th>team</th>\n",
       "      <th>season</th>\n",
       "      <th>victories</th>\n",
       "      <th>defeats</th>\n",
       "      <th>overtime_defeats</th>\n",
       "      <th>victory_percentage</th>\n",
       "      <th>scored_goals</th>\n",
       "      <th>received_goals</th>\n",
       "      <th>goal_difference</th>\n",
       "    </tr>\n",
       "  </thead>\n",
       "  <tbody>\n",
       "    <tr>\n",
       "      <th>0</th>\n",
       "      <td>Boston Bruins</td>\n",
       "      <td>1990</td>\n",
       "      <td>44</td>\n",
       "      <td>24</td>\n",
       "      <td></td>\n",
       "      <td>0.550</td>\n",
       "      <td>299</td>\n",
       "      <td>264</td>\n",
       "      <td>35</td>\n",
       "    </tr>\n",
       "    <tr>\n",
       "      <th>1</th>\n",
       "      <td>Buffalo Sabres</td>\n",
       "      <td>1990</td>\n",
       "      <td>31</td>\n",
       "      <td>30</td>\n",
       "      <td></td>\n",
       "      <td>0.388</td>\n",
       "      <td>292</td>\n",
       "      <td>278</td>\n",
       "      <td>14</td>\n",
       "    </tr>\n",
       "    <tr>\n",
       "      <th>2</th>\n",
       "      <td>Calgary Flames</td>\n",
       "      <td>1990</td>\n",
       "      <td>46</td>\n",
       "      <td>26</td>\n",
       "      <td></td>\n",
       "      <td>0.575</td>\n",
       "      <td>344</td>\n",
       "      <td>263</td>\n",
       "      <td>81</td>\n",
       "    </tr>\n",
       "    <tr>\n",
       "      <th>3</th>\n",
       "      <td>Chicago Blackhawks</td>\n",
       "      <td>1990</td>\n",
       "      <td>49</td>\n",
       "      <td>23</td>\n",
       "      <td></td>\n",
       "      <td>0.613</td>\n",
       "      <td>284</td>\n",
       "      <td>211</td>\n",
       "      <td>73</td>\n",
       "    </tr>\n",
       "    <tr>\n",
       "      <th>4</th>\n",
       "      <td>Detroit Red Wings</td>\n",
       "      <td>1990</td>\n",
       "      <td>34</td>\n",
       "      <td>38</td>\n",
       "      <td></td>\n",
       "      <td>0.425</td>\n",
       "      <td>273</td>\n",
       "      <td>298</td>\n",
       "      <td>-25</td>\n",
       "    </tr>\n",
       "  </tbody>\n",
       "</table>\n",
       "</div>"
      ],
      "text/plain": [
       "                 team  season  victories  defeats overtime_defeats  \\\n",
       "0       Boston Bruins    1990         44       24                    \n",
       "1      Buffalo Sabres    1990         31       30                    \n",
       "2      Calgary Flames    1990         46       26                    \n",
       "3  Chicago Blackhawks    1990         49       23                    \n",
       "4   Detroit Red Wings    1990         34       38                    \n",
       "\n",
       "   victory_percentage  scored_goals  received_goals  goal_difference  \n",
       "0               0.550           299             264               35  \n",
       "1               0.388           292             278               14  \n",
       "2               0.575           344             263               81  \n",
       "3               0.613           284             211               73  \n",
       "4               0.425           273             298              -25  "
      ]
     },
     "execution_count": 4,
     "metadata": {},
     "output_type": "execute_result"
    }
   ],
   "source": [
    "df = df_raw.copy()\n",
    "\n",
    "rename_map = {\n",
    "    \"Team Name\": \"team\",\n",
    "    \"Year\": \"season\",\n",
    "    \"Wins\": \"victories\",\n",
    "    \"Losses\": \"defeats\",\n",
    "    \"OT Losses\": \"overtime_defeats\",\n",
    "    \"Win %\": \"victory_percentage\",\n",
    "    \"Goals For (GF)\": \"scored_goals\",\n",
    "    \"Goals Against (GA)\": \"received_goals\",\n",
    "    \"+ / -\": \"goal_difference\"\n",
    "}\n",
    "\n",
    "df = df.rename(columns=rename_map)\n",
    "\n",
    "print(\"Přejmenování sloupců dokončeno.\")\n",
    "print(\"Nové názvy sloupců:\")\n",
    "print(list(df.columns))\n",
    "df.head()"
   ]
  },
  {
   "cell_type": "markdown",
   "metadata": {
    "id": "K_LVbkrGNqTb"
   },
   "source": [
    "## Removing Empty Values\n",
    "\n",
    "As can be observed, the `overtime_defeats` column contains many empty values, and the expected data type is `int`. Before proceeding with further analysis, this column needs to be properly prepared.\n",
    "\n",
    "To achieve this, we will perform the following steps:\n",
    "- Check which symbol is used as an indicator of an empty field.\n",
    "- Fill the empty fields with a value of 0.\n",
    "- Then convert the data type of this column to `int`.\n",
    "\n",
    "By following these steps, the `overtime_defeats` column will be ready for further analysis."
   ]
  },
  {
   "cell_type": "markdown",
   "metadata": {
    "id": "Uz6OqHKWNqTb"
   },
   "source": [
    "### Finding the Indicator of an Empty Field"
   ]
  },
  {
   "cell_type": "code",
   "execution_count": 5,
   "metadata": {
    "id": "MS3IwrT4NqTb"
   },
   "outputs": [
    {
     "name": "stdout",
     "output_type": "stream",
     "text": [
      "Unikátní hodnoty ve sloupci 'overtime_defeats':\n",
      "['' '3' '4' '6' '5' '0' '2' '1' '8' '7' '9' '12' '16' '11' '13' '14' '15'\n",
      " '10' '18']\n",
      "\n",
      "Počet unikátních hodnot: 19\n"
     ]
    }
   ],
   "source": [
    "unique_values = df[\"overtime_defeats\"].unique()\n",
    "\n",
    "print(\"Unikátní hodnoty ve sloupci 'overtime_defeats':\")\n",
    "print(unique_values)\n",
    "print(f\"\\nPočet unikátních hodnot: {len(unique_values)}\")"
   ]
  },
  {
   "cell_type": "markdown",
   "metadata": {
    "id": "DI1cK75ZNqTb"
   },
   "source": [
    "### Overwriting Empty Values with 0"
   ]
  },
  {
   "cell_type": "code",
   "execution_count": 6,
   "metadata": {
    "id": "0904MVgANqTc"
   },
   "outputs": [
    {
     "name": "stdout",
     "output_type": "stream",
     "text": [
      "Počet prázdných hodnot před úpravou: 249\n",
      "Počet prázdných hodnot po úpravě: 0\n",
      "Počet hodnot s nulou: 249\n"
     ]
    },
    {
     "data": {
      "text/html": [
       "<div>\n",
       "<style scoped>\n",
       "    .dataframe tbody tr th:only-of-type {\n",
       "        vertical-align: middle;\n",
       "    }\n",
       "\n",
       "    .dataframe tbody tr th {\n",
       "        vertical-align: top;\n",
       "    }\n",
       "\n",
       "    .dataframe thead th {\n",
       "        text-align: right;\n",
       "    }\n",
       "</style>\n",
       "<table border=\"1\" class=\"dataframe\">\n",
       "  <thead>\n",
       "    <tr style=\"text-align: right;\">\n",
       "      <th></th>\n",
       "      <th>team</th>\n",
       "      <th>season</th>\n",
       "      <th>overtime_defeats</th>\n",
       "    </tr>\n",
       "  </thead>\n",
       "  <tbody>\n",
       "    <tr>\n",
       "      <th>0</th>\n",
       "      <td>Boston Bruins</td>\n",
       "      <td>1990</td>\n",
       "      <td>0</td>\n",
       "    </tr>\n",
       "    <tr>\n",
       "      <th>1</th>\n",
       "      <td>Buffalo Sabres</td>\n",
       "      <td>1990</td>\n",
       "      <td>0</td>\n",
       "    </tr>\n",
       "    <tr>\n",
       "      <th>2</th>\n",
       "      <td>Calgary Flames</td>\n",
       "      <td>1990</td>\n",
       "      <td>0</td>\n",
       "    </tr>\n",
       "    <tr>\n",
       "      <th>3</th>\n",
       "      <td>Chicago Blackhawks</td>\n",
       "      <td>1990</td>\n",
       "      <td>0</td>\n",
       "    </tr>\n",
       "    <tr>\n",
       "      <th>4</th>\n",
       "      <td>Detroit Red Wings</td>\n",
       "      <td>1990</td>\n",
       "      <td>0</td>\n",
       "    </tr>\n",
       "    <tr>\n",
       "      <th>5</th>\n",
       "      <td>Edmonton Oilers</td>\n",
       "      <td>1990</td>\n",
       "      <td>0</td>\n",
       "    </tr>\n",
       "    <tr>\n",
       "      <th>6</th>\n",
       "      <td>Hartford Whalers</td>\n",
       "      <td>1990</td>\n",
       "      <td>0</td>\n",
       "    </tr>\n",
       "    <tr>\n",
       "      <th>7</th>\n",
       "      <td>Los Angeles Kings</td>\n",
       "      <td>1990</td>\n",
       "      <td>0</td>\n",
       "    </tr>\n",
       "    <tr>\n",
       "      <th>8</th>\n",
       "      <td>Minnesota North Stars</td>\n",
       "      <td>1990</td>\n",
       "      <td>0</td>\n",
       "    </tr>\n",
       "    <tr>\n",
       "      <th>9</th>\n",
       "      <td>Montreal Canadiens</td>\n",
       "      <td>1990</td>\n",
       "      <td>0</td>\n",
       "    </tr>\n",
       "  </tbody>\n",
       "</table>\n",
       "</div>"
      ],
      "text/plain": [
       "                    team  season overtime_defeats\n",
       "0          Boston Bruins    1990                0\n",
       "1         Buffalo Sabres    1990                0\n",
       "2         Calgary Flames    1990                0\n",
       "3     Chicago Blackhawks    1990                0\n",
       "4      Detroit Red Wings    1990                0\n",
       "5        Edmonton Oilers    1990                0\n",
       "6       Hartford Whalers    1990                0\n",
       "7      Los Angeles Kings    1990                0\n",
       "8  Minnesota North Stars    1990                0\n",
       "9     Montreal Canadiens    1990                0"
      ]
     },
     "execution_count": 6,
     "metadata": {},
     "output_type": "execute_result"
    }
   ],
   "source": [
    "empty_before = (df[\"overtime_defeats\"] == \"\").sum()\n",
    "print(f\"Počet prázdných hodnot před úpravou: {empty_before}\")\n",
    "\n",
    "df[\"overtime_defeats\"] = df[\"overtime_defeats\"].replace(\"\", 0)\n",
    "\n",
    "empty_after = (df[\"overtime_defeats\"] == \"\").sum()\n",
    "zeros_after = (df[\"overtime_defeats\"] == 0).sum()\n",
    "\n",
    "print(f\"Počet prázdných hodnot po úpravě: {empty_after}\")\n",
    "print(f\"Počet hodnot s nulou: {zeros_after}\")\n",
    "\n",
    "df[[\"team\", \"season\", \"overtime_defeats\"]].head(10)"
   ]
  },
  {
   "cell_type": "markdown",
   "metadata": {
    "id": "zcYisAP2NqTc"
   },
   "source": [
    "### Column Type Conversion"
   ]
  },
  {
   "cell_type": "code",
   "execution_count": 7,
   "metadata": {
    "id": "to3ojXBiNqTc"
   },
   "outputs": [
    {
     "name": "stdout",
     "output_type": "stream",
     "text": [
      "Přetypování hotovo.\n",
      "\n",
      "team                   object\n",
      "season                  Int64\n",
      "victories               Int64\n",
      "defeats                 Int64\n",
      "overtime_defeats        Int64\n",
      "victory_percentage    float64\n",
      "scored_goals            Int64\n",
      "received_goals          Int64\n",
      "goal_difference         Int64\n",
      "dtype: object\n",
      "\n",
      "Počet chybějících hodnot v klíčových sloupcích: {'team': 0, 'season': 0, 'victories': 0, 'defeats': 0, 'victory_percentage': 0}\n"
     ]
    },
    {
     "data": {
      "text/html": [
       "<div>\n",
       "<style scoped>\n",
       "    .dataframe tbody tr th:only-of-type {\n",
       "        vertical-align: middle;\n",
       "    }\n",
       "\n",
       "    .dataframe tbody tr th {\n",
       "        vertical-align: top;\n",
       "    }\n",
       "\n",
       "    .dataframe thead th {\n",
       "        text-align: right;\n",
       "    }\n",
       "</style>\n",
       "<table border=\"1\" class=\"dataframe\">\n",
       "  <thead>\n",
       "    <tr style=\"text-align: right;\">\n",
       "      <th></th>\n",
       "      <th>team</th>\n",
       "      <th>season</th>\n",
       "      <th>victories</th>\n",
       "      <th>defeats</th>\n",
       "      <th>overtime_defeats</th>\n",
       "      <th>victory_percentage</th>\n",
       "      <th>scored_goals</th>\n",
       "      <th>received_goals</th>\n",
       "      <th>goal_difference</th>\n",
       "    </tr>\n",
       "  </thead>\n",
       "  <tbody>\n",
       "    <tr>\n",
       "      <th>0</th>\n",
       "      <td>Boston Bruins</td>\n",
       "      <td>1990</td>\n",
       "      <td>44</td>\n",
       "      <td>24</td>\n",
       "      <td>0</td>\n",
       "      <td>0.550</td>\n",
       "      <td>299</td>\n",
       "      <td>264</td>\n",
       "      <td>35</td>\n",
       "    </tr>\n",
       "    <tr>\n",
       "      <th>1</th>\n",
       "      <td>Buffalo Sabres</td>\n",
       "      <td>1990</td>\n",
       "      <td>31</td>\n",
       "      <td>30</td>\n",
       "      <td>0</td>\n",
       "      <td>0.388</td>\n",
       "      <td>292</td>\n",
       "      <td>278</td>\n",
       "      <td>14</td>\n",
       "    </tr>\n",
       "    <tr>\n",
       "      <th>2</th>\n",
       "      <td>Calgary Flames</td>\n",
       "      <td>1990</td>\n",
       "      <td>46</td>\n",
       "      <td>26</td>\n",
       "      <td>0</td>\n",
       "      <td>0.575</td>\n",
       "      <td>344</td>\n",
       "      <td>263</td>\n",
       "      <td>81</td>\n",
       "    </tr>\n",
       "    <tr>\n",
       "      <th>3</th>\n",
       "      <td>Chicago Blackhawks</td>\n",
       "      <td>1990</td>\n",
       "      <td>49</td>\n",
       "      <td>23</td>\n",
       "      <td>0</td>\n",
       "      <td>0.613</td>\n",
       "      <td>284</td>\n",
       "      <td>211</td>\n",
       "      <td>73</td>\n",
       "    </tr>\n",
       "    <tr>\n",
       "      <th>4</th>\n",
       "      <td>Detroit Red Wings</td>\n",
       "      <td>1990</td>\n",
       "      <td>34</td>\n",
       "      <td>38</td>\n",
       "      <td>0</td>\n",
       "      <td>0.425</td>\n",
       "      <td>273</td>\n",
       "      <td>298</td>\n",
       "      <td>-25</td>\n",
       "    </tr>\n",
       "  </tbody>\n",
       "</table>\n",
       "</div>"
      ],
      "text/plain": [
       "                 team  season  victories  defeats  overtime_defeats  \\\n",
       "0       Boston Bruins    1990         44       24                 0   \n",
       "1      Buffalo Sabres    1990         31       30                 0   \n",
       "2      Calgary Flames    1990         46       26                 0   \n",
       "3  Chicago Blackhawks    1990         49       23                 0   \n",
       "4   Detroit Red Wings    1990         34       38                 0   \n",
       "\n",
       "   victory_percentage  scored_goals  received_goals  goal_difference  \n",
       "0               0.550           299             264               35  \n",
       "1               0.388           292             278               14  \n",
       "2               0.575           344             263               81  \n",
       "3               0.613           284             211               73  \n",
       "4               0.425           273             298              -25  "
      ]
     },
     "execution_count": 7,
     "metadata": {},
     "output_type": "execute_result"
    }
   ],
   "source": [
    "int_cols = [\n",
    "    \"season\",\n",
    "    \"victories\",\n",
    "    \"defeats\",\n",
    "    \"overtime_defeats\",\n",
    "    \"scored_goals\",\n",
    "    \"received_goals\",\n",
    "    \"goal_difference\",\n",
    "]\n",
    "\n",
    "float_cols = [\"victory_percentage\"]\n",
    "\n",
    "for c in int_cols:\n",
    "    if c in df.columns:\n",
    "        df[c] = pd.to_numeric(df[c], errors=\"coerce\").astype(\"Int64\")\n",
    "\n",
    "for c in float_cols:\n",
    "    if c in df.columns:\n",
    "        df[c] = pd.to_numeric(df[c], errors=\"coerce\")\n",
    "\n",
    "print(\"Přetypování hotovo.\\n\")\n",
    "print(df.dtypes)\n",
    "\n",
    "key_cols = [\"team\", \"season\", \"victories\", \"defeats\", \"victory_percentage\"]\n",
    "missing = {c: int(df[c].isna().sum()) for c in key_cols if c in df.columns}\n",
    "print(\"\\nPočet chybějících hodnot v klíčových sloupcích:\", missing)\n",
    "\n",
    "df.head()"
   ]
  },
  {
   "cell_type": "markdown",
   "metadata": {
    "id": "tt7ZAi2tNqTc"
   },
   "source": [
    "# Dataset Analysis\n",
    "\n",
    "In this section, we will focus on answering fundamental questions about our dataset in the context of hockey games. The goal is to become familiar with the dataset and develop an intuition about it.  \n",
    "  \n",
    "Here is a list of exercises we will perform to find answers to key questions:  \n",
    "  \n",
    "- How many teams have participated in league games over the years?  \n",
    "- What is the total number of available seasons?  \n",
    "- What is the time span of the data?  \n",
    "- Are there any suspicious or outlier values in the numerical columns?  \n",
    "  \n",
    "These exercises will help us better understand the structure and nature of our data.  "
   ]
  },
  {
   "cell_type": "markdown",
   "metadata": {
    "id": "9Zm6UdvANqTc"
   },
   "source": [
    "### Number of teams that participated in league matches\n",
    "\n",
    "Here, indicate the total number of teams available in our dataset"
   ]
  },
  {
   "cell_type": "code",
   "execution_count": 8,
   "metadata": {
    "id": "uyo3Pt50NqTc"
   },
   "outputs": [
    {
     "name": "stdout",
     "output_type": "stream",
     "text": [
      "Celkový počet unikátních týmů v datasetu: 35\n"
     ]
    }
   ],
   "source": [
    "num_teams = df[\"team\"].nunique()\n",
    "\n",
    "print(f\"Celkový počet unikátních týmů v datasetu: {num_teams}\")"
   ]
  },
  {
   "cell_type": "markdown",
   "metadata": {
    "id": "nJvHLVcvNqTc"
   },
   "source": [
    "### Total number of seasons\n",
    "\n",
    "Here, indicate the total number of seasons."
   ]
  },
  {
   "cell_type": "code",
   "execution_count": 9,
   "metadata": {
    "id": "UYKn01RyNqTc"
   },
   "outputs": [
    {
     "name": "stdout",
     "output_type": "stream",
     "text": [
      "Celkový počet dostupných sezón v datasetu: 21\n"
     ]
    }
   ],
   "source": [
    "num_seasons = df[\"season\"].nunique()\n",
    "\n",
    "print(f\"Celkový počet dostupných sezón v datasetu: {num_seasons}\")"
   ]
  },
  {
   "cell_type": "markdown",
   "metadata": {
    "id": "qTmIm-MBNqTc"
   },
   "source": [
    "### Time Span of Data\n",
    "\n",
    "Here, we will examine the availability of data for individual seasons. The analysis will be conducted in two stages:  \n",
    "- First, we will determine the time range of the data by identifying the start year (`start_year`) and the end year (`end_year`). This will allow us to establish for which seasons we have information.  \n",
    "- Next, we will look for any gaps in the time data to ensure that we have a complete set of information for each season.   "
   ]
  },
  {
   "cell_type": "markdown",
   "metadata": {
    "id": "1rLb34AKNqTd"
   },
   "source": [
    "At this point, we will determine the start year and end year of the data:"
   ]
  },
  {
   "cell_type": "code",
   "execution_count": 10,
   "metadata": {
    "id": "GJPfcmuGNqTd"
   },
   "outputs": [
    {
     "name": "stdout",
     "output_type": "stream",
     "text": [
      "Data pokrývají období od roku 1990 do roku 2011.\n",
      "Celkově 22 let datového pokrytí.\n"
     ]
    }
   ],
   "source": [
    "start_year = df[\"season\"].min()\n",
    "end_year = df[\"season\"].max()\n",
    "\n",
    "print(f\"Data pokrývají období od roku {start_year} do roku {end_year}.\")\n",
    "print(f\"Celkově {end_year - start_year + 1} let datového pokrytí.\")"
   ]
  },
  {
   "cell_type": "markdown",
   "metadata": {
    "id": "qxMUm6BUNqTd"
   },
   "source": [
    "Here, we will check if data is present for each year within the determined range:"
   ]
  },
  {
   "cell_type": "code",
   "execution_count": 11,
   "metadata": {
    "id": "hFgKd-txNqTd"
   },
   "outputs": [
    {
     "name": "stdout",
     "output_type": "stream",
     "text": [
      "Očekávané roky: 1990–2011\n",
      "Počet očekávaných sezón: 22\n",
      "Počet dostupných sezón: 21\n",
      "Chybějící sezóny v datech: [2004]\n",
      "\n",
      "Počet týmů v jednotlivých sezónách:\n",
      "season\n",
      "1990    42\n",
      "1991    26\n",
      "1992    24\n",
      "1993    26\n",
      "1994    26\n",
      "1995    26\n",
      "1996    26\n",
      "1997    26\n",
      "1998    27\n",
      "1999    28\n",
      "2000    30\n",
      "2001    30\n",
      "2002    30\n",
      "2003    30\n",
      "2005    30\n",
      "2006    30\n",
      "2007    30\n",
      "2008    30\n",
      "2009    30\n",
      "2010    30\n",
      "2011    30\n",
      "Name: count, dtype: Int64\n"
     ]
    }
   ],
   "source": [
    "start_year = df[\"season\"].min()\n",
    "end_year = df[\"season\"].max()\n",
    "\n",
    "expected_years = list(range(start_year, end_year + 1))\n",
    "\n",
    "available_years = sorted(df[\"season\"].unique())\n",
    "\n",
    "missing_years = sorted(set(expected_years) - set(available_years))\n",
    "\n",
    "print(f\"Očekávané roky: {start_year}–{end_year}\")\n",
    "print(f\"Počet očekávaných sezón: {len(expected_years)}\")\n",
    "print(f\"Počet dostupných sezón: {len(available_years)}\")\n",
    "\n",
    "if missing_years:\n",
    "    print(f\"Chybějící sezóny v datech: {missing_years}\")\n",
    "else:\n",
    "    print(\"Všechna sezónní data jsou kompletní — žádné mezery nebyly nalezeny.\")\n",
    "\n",
    "print(\"\\nPočet týmů v jednotlivých sezónách:\")\n",
    "print(df[\"season\"].value_counts().sort_index())"
   ]
  },
  {
   "cell_type": "markdown",
   "metadata": {
    "id": "Lf8ZZZxZNqTd"
   },
   "source": [
    "### Analysis of Numerical Columns\n",
    "\n",
    "Here we will examine the basic descriptive statistics for numerical columns.\n",
    "\n",
    "To this end, describe and analyze the results for the following columns:\n",
    "\n",
    "- victories\n",
    "- defeats\n",
    "- overtime_defeats\n",
    "- victory_percentage\n",
    "- scored_goals\n",
    "- received_goals\n",
    "- goal_difference\n",
    "\n",
    "We are interested in the following statistics:\n",
    "- mean,\n",
    "- count,\n",
    "- standard deviation,\n",
    "- percentiles = `[0, 0.05, 0.1, 0.25, 0.5, 0.75, 0.9, 0.95, 1]`"
   ]
  },
  {
   "cell_type": "code",
   "execution_count": 12,
   "metadata": {
    "id": "gE0DkfjONqTd"
   },
   "outputs": [
    {
     "name": "stdout",
     "output_type": "stream",
     "text": [
      "Základní popisné statistiky pro numerické sloupce:\n",
      "\n"
     ]
    },
    {
     "data": {
      "text/html": [
       "<div>\n",
       "<style scoped>\n",
       "    .dataframe tbody tr th:only-of-type {\n",
       "        vertical-align: middle;\n",
       "    }\n",
       "\n",
       "    .dataframe tbody tr th {\n",
       "        vertical-align: top;\n",
       "    }\n",
       "\n",
       "    .dataframe thead th {\n",
       "        text-align: right;\n",
       "    }\n",
       "</style>\n",
       "<table border=\"1\" class=\"dataframe\">\n",
       "  <thead>\n",
       "    <tr style=\"text-align: right;\">\n",
       "      <th></th>\n",
       "      <th>count</th>\n",
       "      <th>mean</th>\n",
       "      <th>std</th>\n",
       "      <th>min</th>\n",
       "      <th>0%</th>\n",
       "      <th>5%</th>\n",
       "      <th>10%</th>\n",
       "      <th>25%</th>\n",
       "      <th>50%</th>\n",
       "      <th>75%</th>\n",
       "      <th>90%</th>\n",
       "      <th>95%</th>\n",
       "      <th>100%</th>\n",
       "      <th>max</th>\n",
       "    </tr>\n",
       "  </thead>\n",
       "  <tbody>\n",
       "    <tr>\n",
       "      <th>victories</th>\n",
       "      <td>607.0</td>\n",
       "      <td>36.841845</td>\n",
       "      <td>8.902925</td>\n",
       "      <td>9.0</td>\n",
       "      <td>9.0</td>\n",
       "      <td>21.3</td>\n",
       "      <td>24.6</td>\n",
       "      <td>31.0</td>\n",
       "      <td>38.0</td>\n",
       "      <td>43.0</td>\n",
       "      <td>48.0</td>\n",
       "      <td>50.0</td>\n",
       "      <td>62.0</td>\n",
       "      <td>62.0</td>\n",
       "    </tr>\n",
       "    <tr>\n",
       "      <th>defeats</th>\n",
       "      <td>607.0</td>\n",
       "      <td>32.443163</td>\n",
       "      <td>8.383721</td>\n",
       "      <td>11.0</td>\n",
       "      <td>11.0</td>\n",
       "      <td>20.0</td>\n",
       "      <td>23.0</td>\n",
       "      <td>27.0</td>\n",
       "      <td>32.0</td>\n",
       "      <td>37.0</td>\n",
       "      <td>43.0</td>\n",
       "      <td>47.0</td>\n",
       "      <td>71.0</td>\n",
       "      <td>71.0</td>\n",
       "    </tr>\n",
       "    <tr>\n",
       "      <th>overtime_defeats</th>\n",
       "      <td>607.0</td>\n",
       "      <td>4.400329</td>\n",
       "      <td>4.600854</td>\n",
       "      <td>0.0</td>\n",
       "      <td>0.0</td>\n",
       "      <td>0.0</td>\n",
       "      <td>0.0</td>\n",
       "      <td>0.0</td>\n",
       "      <td>4.0</td>\n",
       "      <td>8.0</td>\n",
       "      <td>11.0</td>\n",
       "      <td>13.0</td>\n",
       "      <td>18.0</td>\n",
       "      <td>18.0</td>\n",
       "    </tr>\n",
       "    <tr>\n",
       "      <th>victory_percentage</th>\n",
       "      <td>607.0</td>\n",
       "      <td>0.457389</td>\n",
       "      <td>0.102289</td>\n",
       "      <td>0.119</td>\n",
       "      <td>0.119</td>\n",
       "      <td>0.2818</td>\n",
       "      <td>0.3194</td>\n",
       "      <td>0.39</td>\n",
       "      <td>0.463</td>\n",
       "      <td>0.5245</td>\n",
       "      <td>0.585</td>\n",
       "      <td>0.6172</td>\n",
       "      <td>0.756</td>\n",
       "      <td>0.756</td>\n",
       "    </tr>\n",
       "    <tr>\n",
       "      <th>scored_goals</th>\n",
       "      <td>607.0</td>\n",
       "      <td>235.818781</td>\n",
       "      <td>41.128312</td>\n",
       "      <td>115.0</td>\n",
       "      <td>115.0</td>\n",
       "      <td>176.3</td>\n",
       "      <td>191.6</td>\n",
       "      <td>212.0</td>\n",
       "      <td>234.0</td>\n",
       "      <td>257.0</td>\n",
       "      <td>286.4</td>\n",
       "      <td>309.4</td>\n",
       "      <td>369.0</td>\n",
       "      <td>369.0</td>\n",
       "    </tr>\n",
       "    <tr>\n",
       "      <th>received_goals</th>\n",
       "      <td>607.0</td>\n",
       "      <td>235.823723</td>\n",
       "      <td>42.893416</td>\n",
       "      <td>115.0</td>\n",
       "      <td>115.0</td>\n",
       "      <td>169.0</td>\n",
       "      <td>188.0</td>\n",
       "      <td>208.0</td>\n",
       "      <td>234.0</td>\n",
       "      <td>262.0</td>\n",
       "      <td>289.0</td>\n",
       "      <td>305.0</td>\n",
       "      <td>414.0</td>\n",
       "      <td>414.0</td>\n",
       "    </tr>\n",
       "    <tr>\n",
       "      <th>goal_difference</th>\n",
       "      <td>607.0</td>\n",
       "      <td>-0.004942</td>\n",
       "      <td>45.449152</td>\n",
       "      <td>-196.0</td>\n",
       "      <td>-196.0</td>\n",
       "      <td>-73.4</td>\n",
       "      <td>-57.4</td>\n",
       "      <td>-27.0</td>\n",
       "      <td>3.0</td>\n",
       "      <td>31.5</td>\n",
       "      <td>54.0</td>\n",
       "      <td>68.0</td>\n",
       "      <td>144.0</td>\n",
       "      <td>144.0</td>\n",
       "    </tr>\n",
       "  </tbody>\n",
       "</table>\n",
       "</div>"
      ],
      "text/plain": [
       "                    count        mean        std    min     0%      5%  \\\n",
       "victories           607.0   36.841845   8.902925    9.0    9.0    21.3   \n",
       "defeats             607.0   32.443163   8.383721   11.0   11.0    20.0   \n",
       "overtime_defeats    607.0    4.400329   4.600854    0.0    0.0     0.0   \n",
       "victory_percentage  607.0    0.457389   0.102289  0.119  0.119  0.2818   \n",
       "scored_goals        607.0  235.818781  41.128312  115.0  115.0   176.3   \n",
       "received_goals      607.0  235.823723  42.893416  115.0  115.0   169.0   \n",
       "goal_difference     607.0   -0.004942  45.449152 -196.0 -196.0   -73.4   \n",
       "\n",
       "                       10%    25%    50%     75%    90%     95%   100%    max  \n",
       "victories             24.6   31.0   38.0    43.0   48.0    50.0   62.0   62.0  \n",
       "defeats               23.0   27.0   32.0    37.0   43.0    47.0   71.0   71.0  \n",
       "overtime_defeats       0.0    0.0    4.0     8.0   11.0    13.0   18.0   18.0  \n",
       "victory_percentage  0.3194   0.39  0.463  0.5245  0.585  0.6172  0.756  0.756  \n",
       "scored_goals         191.6  212.0  234.0   257.0  286.4   309.4  369.0  369.0  \n",
       "received_goals       188.0  208.0  234.0   262.0  289.0   305.0  414.0  414.0  \n",
       "goal_difference      -57.4  -27.0    3.0    31.5   54.0    68.0  144.0  144.0  "
      ]
     },
     "metadata": {},
     "output_type": "display_data"
    }
   ],
   "source": [
    "num_cols = [\n",
    "    \"victories\",\n",
    "    \"defeats\",\n",
    "    \"overtime_defeats\",\n",
    "    \"victory_percentage\",\n",
    "    \"scored_goals\",\n",
    "    \"received_goals\",\n",
    "    \"goal_difference\"\n",
    "]\n",
    "\n",
    "stats = df[num_cols].describe(\n",
    "    percentiles=[0, 0.05, 0.1, 0.25, 0.5, 0.75, 0.9, 0.95, 1]\n",
    ").T  \n",
    "\n",
    "stats = stats.round(3)\n",
    "\n",
    "print(\"Základní popisné statistiky pro numerické sloupce:\\n\")\n",
    "display(stats)"
   ]
  },
  {
   "cell_type": "markdown",
   "metadata": {
    "id": "CCrClYdKNqTd"
   },
   "source": [
    "# `team`\n",
    "\n",
    "In this section, we will conduct a series of analyses on individual teams participating in the leagues. This will allow us to identify the teams that have performed best in the competitions over the years.\n"
   ]
  },
  {
   "cell_type": "markdown",
   "metadata": {
    "id": "PvY5n2e8NqTe"
   },
   "source": [
    "## Analysis of Team Participation in League Seasons\n",
    "Let's perform the following exercises:\n",
    "\n",
    "- Check how many teams have participated in all seasons of the selected league.\n",
    "- Display the list of these teams."
   ]
  },
  {
   "cell_type": "code",
   "execution_count": 13,
   "metadata": {
    "id": "iearCh4hNqTe"
   },
   "outputs": [
    {
     "name": "stdout",
     "output_type": "stream",
     "text": [
      "Počet týmů, které hrály ve všech 21 sezónách: 17\n",
      "\n",
      "Seznam těchto týmů:\n",
      "- Boston Bruins\n",
      "- Buffalo Sabres\n",
      "- Calgary Flames\n",
      "- Chicago Blackhawks\n",
      "- Detroit Red Wings\n",
      "- Edmonton Oilers\n",
      "- Los Angeles Kings\n",
      "- Montreal Canadiens\n",
      "- New Jersey Devils\n",
      "- New York Islanders\n",
      "- New York Rangers\n",
      "- Philadelphia Flyers\n",
      "- Pittsburgh Penguins\n",
      "- St. Louis Blues\n",
      "- Toronto Maple Leafs\n",
      "- Vancouver Canucks\n",
      "- Washington Capitals\n"
     ]
    }
   ],
   "source": [
    "team_seasons = df.groupby(\"team\")[\"season\"].nunique()\n",
    "\n",
    "total_seasons = df[\"season\"].nunique()\n",
    "\n",
    "teams_all_seasons = team_seasons[team_seasons == total_seasons].index.tolist()\n",
    "\n",
    "print(f\"Počet týmů, které hrály ve všech {total_seasons} sezónách: {len(teams_all_seasons)}\\n\")\n",
    "print(\"Seznam těchto týmů:\")\n",
    "for team in teams_all_seasons:\n",
    "    print(\"-\", team)"
   ]
  },
  {
   "cell_type": "markdown",
   "metadata": {
    "id": "6rKhmCPYNqTe"
   },
   "source": [
    "List of teams that participated in all seasons of hockey competitions:"
   ]
  },
  {
   "cell_type": "code",
   "execution_count": 14,
   "metadata": {
    "id": "Mv9ZFNdONqTe"
   },
   "outputs": [
    {
     "name": "stdout",
     "output_type": "stream",
     "text": [
      "Týmy, které hrály všechny sezóny mezi 1990 a 2011 (s výjimkou roku 2004):\n",
      "\n",
      "1. Boston Bruins\n",
      "2. Buffalo Sabres\n",
      "3. Calgary Flames\n",
      "4. Chicago Blackhawks\n",
      "5. Detroit Red Wings\n",
      "6. Edmonton Oilers\n",
      "7. Los Angeles Kings\n",
      "8. Montreal Canadiens\n",
      "9. New Jersey Devils\n",
      "10. New York Islanders\n",
      "11. New York Rangers\n",
      "12. Philadelphia Flyers\n",
      "13. Pittsburgh Penguins\n",
      "14. St. Louis Blues\n",
      "15. Toronto Maple Leafs\n",
      "16. Vancouver Canucks\n",
      "17. Washington Capitals\n",
      "\n",
      "Celkový počet stálých týmů: 17 z 35 celkových týmů.\n"
     ]
    }
   ],
   "source": [
    "print(f\"Týmy, které hrály všechny sezóny mezi {start_year} a {end_year} (s výjimkou roku 2004):\\n\")\n",
    "\n",
    "for i, team in enumerate(teams_all_seasons, start=1):\n",
    "    print(f\"{i}. {team}\")\n",
    "\n",
    "print(f\"\\nCelkový počet stálých týmů: {len(teams_all_seasons)} z {df['team'].nunique()} celkových týmů.\")"
   ]
  },
  {
   "cell_type": "markdown",
   "metadata": {
    "id": "NBkEHHVeNqTe"
   },
   "source": [
    "The number of teams that have played in all seasons:"
   ]
  },
  {
   "cell_type": "code",
   "execution_count": 15,
   "metadata": {
    "id": "OT-eXQc-NqTe"
   },
   "outputs": [
    {
     "name": "stdout",
     "output_type": "stream",
     "text": [
      "Počet týmů, které hrály ve všech sezónách: 17\n"
     ]
    }
   ],
   "source": [
    "num_teams_all_seasons = len(teams_all_seasons)\n",
    "\n",
    "print(f\"Počet týmů, které hrály ve všech sezónách: {num_teams_all_seasons}\")"
   ]
  },
  {
   "cell_type": "markdown",
   "metadata": {
    "id": "htxkTN4oNqTe"
   },
   "source": [
    "## Best Performing Teams in League History\n",
    "\n",
    "Let's list the five best teams with the highest average `victory_percentage` over all years, presenting the data broken down by individual teams and seasons."
   ]
  },
  {
   "cell_type": "code",
   "execution_count": 16,
   "metadata": {
    "id": "NYziEKIuNqTe"
   },
   "outputs": [
    {
     "name": "stdout",
     "output_type": "stream",
     "text": [
      "Pět historicky nejúspěšnějších týmů podle průměrné výhernosti:\n",
      "\n",
      "1. Detroit Red Wings — průměrná výhernost: 0.579\n",
      "2. New Jersey Devils — průměrná výhernost: 0.528\n",
      "3. Anaheim Ducks — průměrná výhernost: 0.522\n",
      "4. Dallas Stars — průměrná výhernost: 0.517\n",
      "5. Colorado Avalanche — průměrná výhernost: 0.516\n",
      "\n",
      "Výhernost těchto týmů po sezónách:\n"
     ]
    },
    {
     "data": {
      "text/html": [
       "<div>\n",
       "<style scoped>\n",
       "    .dataframe tbody tr th:only-of-type {\n",
       "        vertical-align: middle;\n",
       "    }\n",
       "\n",
       "    .dataframe tbody tr th {\n",
       "        vertical-align: top;\n",
       "    }\n",
       "\n",
       "    .dataframe thead th {\n",
       "        text-align: right;\n",
       "    }\n",
       "</style>\n",
       "<table border=\"1\" class=\"dataframe\">\n",
       "  <thead>\n",
       "    <tr style=\"text-align: right;\">\n",
       "      <th></th>\n",
       "      <th>team</th>\n",
       "      <th>season</th>\n",
       "      <th>victory_percentage</th>\n",
       "    </tr>\n",
       "  </thead>\n",
       "  <tbody>\n",
       "    <tr>\n",
       "      <th>0</th>\n",
       "      <td>Anaheim Ducks</td>\n",
       "      <td>2006</td>\n",
       "      <td>0.585</td>\n",
       "    </tr>\n",
       "    <tr>\n",
       "      <th>1</th>\n",
       "      <td>Anaheim Ducks</td>\n",
       "      <td>2007</td>\n",
       "      <td>0.573</td>\n",
       "    </tr>\n",
       "    <tr>\n",
       "      <th>2</th>\n",
       "      <td>Anaheim Ducks</td>\n",
       "      <td>2008</td>\n",
       "      <td>0.512</td>\n",
       "    </tr>\n",
       "    <tr>\n",
       "      <th>3</th>\n",
       "      <td>Anaheim Ducks</td>\n",
       "      <td>2009</td>\n",
       "      <td>0.476</td>\n",
       "    </tr>\n",
       "    <tr>\n",
       "      <th>4</th>\n",
       "      <td>Anaheim Ducks</td>\n",
       "      <td>2010</td>\n",
       "      <td>0.573</td>\n",
       "    </tr>\n",
       "    <tr>\n",
       "      <th>...</th>\n",
       "      <td>...</td>\n",
       "      <td>...</td>\n",
       "      <td>...</td>\n",
       "    </tr>\n",
       "    <tr>\n",
       "      <th>79</th>\n",
       "      <td>New Jersey Devils</td>\n",
       "      <td>2007</td>\n",
       "      <td>0.561</td>\n",
       "    </tr>\n",
       "    <tr>\n",
       "      <th>80</th>\n",
       "      <td>New Jersey Devils</td>\n",
       "      <td>2008</td>\n",
       "      <td>0.622</td>\n",
       "    </tr>\n",
       "    <tr>\n",
       "      <th>81</th>\n",
       "      <td>New Jersey Devils</td>\n",
       "      <td>2009</td>\n",
       "      <td>0.585</td>\n",
       "    </tr>\n",
       "    <tr>\n",
       "      <th>82</th>\n",
       "      <td>New Jersey Devils</td>\n",
       "      <td>2010</td>\n",
       "      <td>0.463</td>\n",
       "    </tr>\n",
       "    <tr>\n",
       "      <th>83</th>\n",
       "      <td>New Jersey Devils</td>\n",
       "      <td>2011</td>\n",
       "      <td>0.585</td>\n",
       "    </tr>\n",
       "  </tbody>\n",
       "</table>\n",
       "<p>84 rows × 3 columns</p>\n",
       "</div>"
      ],
      "text/plain": [
       "                 team  season  victory_percentage\n",
       "0       Anaheim Ducks    2006               0.585\n",
       "1       Anaheim Ducks    2007               0.573\n",
       "2       Anaheim Ducks    2008               0.512\n",
       "3       Anaheim Ducks    2009               0.476\n",
       "4       Anaheim Ducks    2010               0.573\n",
       "..                ...     ...                 ...\n",
       "79  New Jersey Devils    2007               0.561\n",
       "80  New Jersey Devils    2008               0.622\n",
       "81  New Jersey Devils    2009               0.585\n",
       "82  New Jersey Devils    2010               0.463\n",
       "83  New Jersey Devils    2011               0.585\n",
       "\n",
       "[84 rows x 3 columns]"
      ]
     },
     "metadata": {},
     "output_type": "display_data"
    }
   ],
   "source": [
    "team_avg_victory = (\n",
    "    df.groupby(\"team\")[\"victory_percentage\"]\n",
    "    .mean()\n",
    "    .sort_values(ascending=False)\n",
    ")\n",
    "\n",
    "top5_teams = team_avg_victory.head(5).index.tolist()\n",
    "\n",
    "print(\"Pět historicky nejúspěšnějších týmů podle průměrné výhernosti:\\n\")\n",
    "for i, (team, avg) in enumerate(team_avg_victory.head(5).items(), start=1):\n",
    "    print(f\"{i}. {team} — průměrná výhernost: {avg:.3f}\")\n",
    "\n",
    "top5_df = df[df[\"team\"].isin(top5_teams)][[\"team\", \"season\", \"victory_percentage\"]]\n",
    "\n",
    "print(\"\\nVýhernost těchto týmů po sezónách:\")\n",
    "display(top5_df.sort_values([\"team\", \"season\"]).reset_index(drop=True))"
   ]
  },
  {
   "cell_type": "markdown",
   "metadata": {
    "id": "E4y70ShxNqTo"
   },
   "source": [
    "## Top Teams in History\n",
    "\n",
    "Let's determine the top 5 teams that have won the most league titles in entire history. Let's consider whether, based on the available data, we can identify a single team that unquestionably deserves the title of the best in history.\n",
    "\n",
    "For simplicity, let's assume that the league winner is the team with the most victories in a given season.\n",
    "\n",
    "> Hint: The information contained in the article `Pandas > Summary of the 4th Meeting > Analytical Functions` may be useful."
   ]
  },
  {
   "cell_type": "code",
   "execution_count": 17,
   "metadata": {
    "id": "eFarCZV-NqTp"
   },
   "outputs": [
    {
     "name": "stdout",
     "output_type": "stream",
     "text": [
      "Týmy s největším počtem ligových vítězství (podle počtu sezón s nejvíce výhrami):\n",
      "\n"
     ]
    },
    {
     "data": {
      "text/html": [
       "<div>\n",
       "<style scoped>\n",
       "    .dataframe tbody tr th:only-of-type {\n",
       "        vertical-align: middle;\n",
       "    }\n",
       "\n",
       "    .dataframe tbody tr th {\n",
       "        vertical-align: top;\n",
       "    }\n",
       "\n",
       "    .dataframe thead th {\n",
       "        text-align: right;\n",
       "    }\n",
       "</style>\n",
       "<table border=\"1\" class=\"dataframe\">\n",
       "  <thead>\n",
       "    <tr style=\"text-align: right;\">\n",
       "      <th></th>\n",
       "      <th>team</th>\n",
       "      <th>titles_won</th>\n",
       "    </tr>\n",
       "  </thead>\n",
       "  <tbody>\n",
       "    <tr>\n",
       "      <th>0</th>\n",
       "      <td>Detroit Red Wings</td>\n",
       "      <td>6</td>\n",
       "    </tr>\n",
       "    <tr>\n",
       "      <th>1</th>\n",
       "      <td>New York Rangers</td>\n",
       "      <td>3</td>\n",
       "    </tr>\n",
       "    <tr>\n",
       "      <th>2</th>\n",
       "      <td>Dallas Stars</td>\n",
       "      <td>2</td>\n",
       "    </tr>\n",
       "    <tr>\n",
       "      <th>3</th>\n",
       "      <td>Colorado Avalanche</td>\n",
       "      <td>2</td>\n",
       "    </tr>\n",
       "    <tr>\n",
       "      <th>4</th>\n",
       "      <td>Pittsburgh Penguins</td>\n",
       "      <td>1</td>\n",
       "    </tr>\n",
       "  </tbody>\n",
       "</table>\n",
       "</div>"
      ],
      "text/plain": [
       "                  team  titles_won\n",
       "0    Detroit Red Wings           6\n",
       "1     New York Rangers           3\n",
       "2         Dallas Stars           2\n",
       "3   Colorado Avalanche           2\n",
       "4  Pittsburgh Penguins           1"
      ]
     },
     "metadata": {},
     "output_type": "display_data"
    },
    {
     "name": "stdout",
     "output_type": "stream",
     "text": [
      "\n",
      "📅 Přehled vítězů jednotlivých sezón:\n"
     ]
    },
    {
     "data": {
      "text/html": [
       "<div>\n",
       "<style scoped>\n",
       "    .dataframe tbody tr th:only-of-type {\n",
       "        vertical-align: middle;\n",
       "    }\n",
       "\n",
       "    .dataframe tbody tr th {\n",
       "        vertical-align: top;\n",
       "    }\n",
       "\n",
       "    .dataframe thead th {\n",
       "        text-align: right;\n",
       "    }\n",
       "</style>\n",
       "<table border=\"1\" class=\"dataframe\">\n",
       "  <thead>\n",
       "    <tr style=\"text-align: right;\">\n",
       "      <th></th>\n",
       "      <th>season</th>\n",
       "      <th>team</th>\n",
       "      <th>victories</th>\n",
       "    </tr>\n",
       "  </thead>\n",
       "  <tbody>\n",
       "    <tr>\n",
       "      <th>0</th>\n",
       "      <td>1990</td>\n",
       "      <td>Chicago Blackhawks</td>\n",
       "      <td>49</td>\n",
       "    </tr>\n",
       "    <tr>\n",
       "      <th>1</th>\n",
       "      <td>1991</td>\n",
       "      <td>New York Rangers</td>\n",
       "      <td>50</td>\n",
       "    </tr>\n",
       "    <tr>\n",
       "      <th>2</th>\n",
       "      <td>1992</td>\n",
       "      <td>Pittsburgh Penguins</td>\n",
       "      <td>56</td>\n",
       "    </tr>\n",
       "    <tr>\n",
       "      <th>3</th>\n",
       "      <td>1993</td>\n",
       "      <td>New York Rangers</td>\n",
       "      <td>52</td>\n",
       "    </tr>\n",
       "    <tr>\n",
       "      <th>4</th>\n",
       "      <td>1994</td>\n",
       "      <td>Detroit Red Wings</td>\n",
       "      <td>33</td>\n",
       "    </tr>\n",
       "    <tr>\n",
       "      <th>5</th>\n",
       "      <td>1995</td>\n",
       "      <td>Detroit Red Wings</td>\n",
       "      <td>62</td>\n",
       "    </tr>\n",
       "    <tr>\n",
       "      <th>6</th>\n",
       "      <td>1996</td>\n",
       "      <td>Colorado Avalanche</td>\n",
       "      <td>49</td>\n",
       "    </tr>\n",
       "    <tr>\n",
       "      <th>7</th>\n",
       "      <td>1997</td>\n",
       "      <td>Dallas Stars</td>\n",
       "      <td>49</td>\n",
       "    </tr>\n",
       "    <tr>\n",
       "      <th>8</th>\n",
       "      <td>1998</td>\n",
       "      <td>Dallas Stars</td>\n",
       "      <td>51</td>\n",
       "    </tr>\n",
       "    <tr>\n",
       "      <th>9</th>\n",
       "      <td>1999</td>\n",
       "      <td>St. Louis Blues</td>\n",
       "      <td>51</td>\n",
       "    </tr>\n",
       "    <tr>\n",
       "      <th>10</th>\n",
       "      <td>2000</td>\n",
       "      <td>Colorado Avalanche</td>\n",
       "      <td>52</td>\n",
       "    </tr>\n",
       "    <tr>\n",
       "      <th>11</th>\n",
       "      <td>2001</td>\n",
       "      <td>Detroit Red Wings</td>\n",
       "      <td>51</td>\n",
       "    </tr>\n",
       "    <tr>\n",
       "      <th>12</th>\n",
       "      <td>2002</td>\n",
       "      <td>Ottawa Senators</td>\n",
       "      <td>52</td>\n",
       "    </tr>\n",
       "    <tr>\n",
       "      <th>13</th>\n",
       "      <td>2003</td>\n",
       "      <td>Detroit Red Wings</td>\n",
       "      <td>48</td>\n",
       "    </tr>\n",
       "    <tr>\n",
       "      <th>14</th>\n",
       "      <td>2005</td>\n",
       "      <td>Detroit Red Wings</td>\n",
       "      <td>58</td>\n",
       "    </tr>\n",
       "    <tr>\n",
       "      <th>15</th>\n",
       "      <td>2006</td>\n",
       "      <td>Buffalo Sabres</td>\n",
       "      <td>53</td>\n",
       "    </tr>\n",
       "    <tr>\n",
       "      <th>16</th>\n",
       "      <td>2007</td>\n",
       "      <td>Detroit Red Wings</td>\n",
       "      <td>54</td>\n",
       "    </tr>\n",
       "    <tr>\n",
       "      <th>17</th>\n",
       "      <td>2008</td>\n",
       "      <td>Boston Bruins</td>\n",
       "      <td>53</td>\n",
       "    </tr>\n",
       "    <tr>\n",
       "      <th>18</th>\n",
       "      <td>2009</td>\n",
       "      <td>Washington Capitals</td>\n",
       "      <td>54</td>\n",
       "    </tr>\n",
       "    <tr>\n",
       "      <th>19</th>\n",
       "      <td>2010</td>\n",
       "      <td>Vancouver Canucks</td>\n",
       "      <td>54</td>\n",
       "    </tr>\n",
       "    <tr>\n",
       "      <th>20</th>\n",
       "      <td>2011</td>\n",
       "      <td>New York Rangers</td>\n",
       "      <td>51</td>\n",
       "    </tr>\n",
       "  </tbody>\n",
       "</table>\n",
       "</div>"
      ],
      "text/plain": [
       "    season                 team  victories\n",
       "0     1990   Chicago Blackhawks         49\n",
       "1     1991     New York Rangers         50\n",
       "2     1992  Pittsburgh Penguins         56\n",
       "3     1993     New York Rangers         52\n",
       "4     1994    Detroit Red Wings         33\n",
       "5     1995    Detroit Red Wings         62\n",
       "6     1996   Colorado Avalanche         49\n",
       "7     1997         Dallas Stars         49\n",
       "8     1998         Dallas Stars         51\n",
       "9     1999      St. Louis Blues         51\n",
       "10    2000   Colorado Avalanche         52\n",
       "11    2001    Detroit Red Wings         51\n",
       "12    2002      Ottawa Senators         52\n",
       "13    2003    Detroit Red Wings         48\n",
       "14    2005    Detroit Red Wings         58\n",
       "15    2006       Buffalo Sabres         53\n",
       "16    2007    Detroit Red Wings         54\n",
       "17    2008        Boston Bruins         53\n",
       "18    2009  Washington Capitals         54\n",
       "19    2010    Vancouver Canucks         54\n",
       "20    2011     New York Rangers         51"
      ]
     },
     "metadata": {},
     "output_type": "display_data"
    }
   ],
   "source": [
    "winners_by_season = (\n",
    "    df.loc[df.groupby(\"season\")[\"victories\"].idxmax(), [\"season\", \"team\", \"victories\"]]\n",
    "    .sort_values(\"season\")\n",
    "    .reset_index(drop=True)\n",
    ")\n",
    "\n",
    "titles_count = (\n",
    "    winners_by_season[\"team\"]\n",
    "    .value_counts()\n",
    "    .rename_axis(\"team\")\n",
    "    .reset_index(name=\"titles_won\")\n",
    ")\n",
    "\n",
    "top5_titles = titles_count.head(5)\n",
    "\n",
    "print(\"Týmy s největším počtem ligových vítězství (podle počtu sezón s nejvíce výhrami):\\n\")\n",
    "display(top5_titles)\n",
    "\n",
    "print(\"\\n📅 Přehled vítězů jednotlivých sezón:\")\n",
    "display(winners_by_season)"
   ]
  },
  {
   "cell_type": "markdown",
   "metadata": {
    "id": "_anGuf5yNqTp"
   },
   "source": [
    "Additionally, we will determine how many teams have **never won any season**.  \n",
    "  \n",
    "> **Note:** This task may seem more complex than it appears at first glance. Remember, during classes you can rely on the instructor's help, and outside of them - on the support of a mentor."
   ]
  },
  {
   "cell_type": "code",
   "execution_count": 20,
   "metadata": {
    "id": "pnLwVZVHNqTp"
   },
   "outputs": [
    {
     "name": "stdout",
     "output_type": "stream",
     "text": [
      "Počet týmů bez Stanley Cupu (1990/91–2011/12): 17\n",
      "\n",
      "Seznam:\n",
      "- Arizona Coyotes\n",
      "- Buffalo Sabres\n",
      "- Calgary Flames\n",
      "- Columbus Blue Jackets\n",
      "- Edmonton Oilers\n",
      "- Florida Panthers\n",
      "- Minnesota Wild\n",
      "- Nashville Predators\n",
      "- New York Islanders\n",
      "- Ottawa Senators\n",
      "- Philadelphia Flyers\n",
      "- San Jose Sharks\n",
      "- St. Louis Blues\n",
      "- Toronto Maple Leafs\n",
      "- Vancouver Canucks\n",
      "- Washington Capitals\n",
      "- Winnipeg Jets\n"
     ]
    }
   ],
   "source": [
    "team_aliases = {\n",
    "    \"Mighty Ducks of Anaheim\": \"Anaheim Ducks\",\n",
    "    \"Quebec Nordiques\": \"Colorado Avalanche\",\n",
    "    \"Hartford Whalers\": \"Carolina Hurricanes\",\n",
    "    \"Atlanta Thrashers\": \"Winnipeg Jets\",\n",
    "    \"Phoenix Coyotes\": \"Arizona Coyotes\",   # moderní název\n",
    "    \"Minnesota North Stars\": \"Dallas Stars\",\n",
    "}\n",
    "\n",
    "df_norm = df.copy()\n",
    "df_norm[\"team_norm\"] = df_norm[\"team\"].replace(team_aliases)\n",
    "\n",
    "stanley_cup_champ_by_season_start = {\n",
    "    1990: \"Pittsburgh Penguins\",   # 1990/91\n",
    "    1991: \"Pittsburgh Penguins\",   # 1991/92\n",
    "    1992: \"Montreal Canadiens\",    # 1992/93\n",
    "    1993: \"New York Rangers\",      # 1993/94\n",
    "    1994: \"New Jersey Devils\",     # 1994/95\n",
    "    1995: \"Colorado Avalanche\",    # 1995/96 (ex-Quebec)\n",
    "    1996: \"Detroit Red Wings\",     # 1996/97\n",
    "    1997: \"Detroit Red Wings\",     # 1997/98\n",
    "    1998: \"Dallas Stars\",          # 1998/99\n",
    "    1999: \"New Jersey Devils\",     # 1999/00\n",
    "    2000: \"Colorado Avalanche\",    # 2000/01\n",
    "    2001: \"Detroit Red Wings\",     # 2001/02\n",
    "    2002: \"New Jersey Devils\",     # 2002/03\n",
    "    2003: \"Tampa Bay Lightning\",   # 2003/04\n",
    "    2005: \"Carolina Hurricanes\",   # 2005/06\n",
    "    2006: \"Anaheim Ducks\",         # 2006/07 (ex-Mighty Ducks)\n",
    "    2007: \"Detroit Red Wings\",     # 2007/08\n",
    "    2008: \"Pittsburgh Penguins\",   # 2008/09\n",
    "    2009: \"Chicago Blackhawks\",    # 2009/10\n",
    "    2010: \"Boston Bruins\",         # 2010/11\n",
    "    2011: \"Los Angeles Kings\",     # 2011/12\n",
    "}\n",
    "\n",
    "champs_set = {\n",
    "    team_aliases.get(name, name) \n",
    "    for year, name in stanley_cup_champ_by_season_start.items()\n",
    "}\n",
    "\n",
    "participants_set = set(df_norm[\"team_norm\"].unique())\n",
    "\n",
    "never_stanley_cup = sorted(participants_set - champs_set)\n",
    "\n",
    "print(f\"Počet týmů bez Stanley Cupu (1990/91–2011/12): {len(never_stanley_cup)}\\n\")\n",
    "print(\"Seznam:\")\n",
    "for t in never_stanley_cup:\n",
    "    print(\"-\", t)\n"
   ]
  },
  {
   "cell_type": "markdown",
   "metadata": {
    "id": "DbgD8WEKNqTp"
   },
   "source": [
    "# `overtime_defeats`\n",
    "\n",
    "The `overtime_defeats` variable informs us how many times a team lost in overtime throughout the year.  \n",
    "  \n",
    "In this section, we will perform the following exercises:  \n",
    "- Identify the team that most frequently lost in overtime.  \n",
    "- Rank the teams based on the number of overtime losses.  \n",
    "- Calculate what percentage of teams lost at least once in overtime.  \n",
    "- Determine the season with the highest number of games decided in overtime.  \n",
    "  \n",
    "> Let's make sure that the `overtime_defeats` column is of numeric type!  "
   ]
  },
  {
   "cell_type": "markdown",
   "metadata": {
    "id": "T_3LrsNQNqTp"
   },
   "source": [
    "## The team losing most frequently in overtime\n",
    "\n",
    "> Note: To solve this task, this article might be useful: `Pandas > Conference Summary > Analytical Functions`"
   ]
  },
  {
   "cell_type": "code",
   "execution_count": 21,
   "metadata": {
    "id": "Iiv_VYjGNqTp"
   },
   "outputs": [
    {
     "name": "stdout",
     "output_type": "stream",
     "text": [
      "Tým s nejvyšším počtem proher v prodloužení (všechna období):\n"
     ]
    },
    {
     "data": {
      "text/plain": [
       "team\n",
       "Florida Panthers    124\n",
       "Name: overtime_defeats, dtype: Int64"
      ]
     },
     "metadata": {},
     "output_type": "display_data"
    },
    {
     "name": "stdout",
     "output_type": "stream",
     "text": [
      "\n",
      "Žebříček týmů podle celkového počtu proher v prodloužení:\n"
     ]
    },
    {
     "data": {
      "text/html": [
       "<div>\n",
       "<style scoped>\n",
       "    .dataframe tbody tr th:only-of-type {\n",
       "        vertical-align: middle;\n",
       "    }\n",
       "\n",
       "    .dataframe tbody tr th {\n",
       "        vertical-align: top;\n",
       "    }\n",
       "\n",
       "    .dataframe thead th {\n",
       "        text-align: right;\n",
       "    }\n",
       "</style>\n",
       "<table border=\"1\" class=\"dataframe\">\n",
       "  <thead>\n",
       "    <tr style=\"text-align: right;\">\n",
       "      <th></th>\n",
       "      <th>team</th>\n",
       "      <th>overtime_defeats</th>\n",
       "    </tr>\n",
       "  </thead>\n",
       "  <tbody>\n",
       "    <tr>\n",
       "      <th>0</th>\n",
       "      <td>Florida Panthers</td>\n",
       "      <td>124</td>\n",
       "    </tr>\n",
       "    <tr>\n",
       "      <th>1</th>\n",
       "      <td>Boston Bruins</td>\n",
       "      <td>106</td>\n",
       "    </tr>\n",
       "    <tr>\n",
       "      <th>2</th>\n",
       "      <td>St. Louis Blues</td>\n",
       "      <td>101</td>\n",
       "    </tr>\n",
       "    <tr>\n",
       "      <th>3</th>\n",
       "      <td>Toronto Maple Leafs</td>\n",
       "      <td>96</td>\n",
       "    </tr>\n",
       "    <tr>\n",
       "      <th>4</th>\n",
       "      <td>Montreal Canadiens</td>\n",
       "      <td>96</td>\n",
       "    </tr>\n",
       "    <tr>\n",
       "      <th>5</th>\n",
       "      <td>Tampa Bay Lightning</td>\n",
       "      <td>96</td>\n",
       "    </tr>\n",
       "    <tr>\n",
       "      <th>6</th>\n",
       "      <td>San Jose Sharks</td>\n",
       "      <td>94</td>\n",
       "    </tr>\n",
       "    <tr>\n",
       "      <th>7</th>\n",
       "      <td>Calgary Flames</td>\n",
       "      <td>94</td>\n",
       "    </tr>\n",
       "    <tr>\n",
       "      <th>8</th>\n",
       "      <td>Edmonton Oilers</td>\n",
       "      <td>94</td>\n",
       "    </tr>\n",
       "    <tr>\n",
       "      <th>9</th>\n",
       "      <td>Los Angeles Kings</td>\n",
       "      <td>93</td>\n",
       "    </tr>\n",
       "  </tbody>\n",
       "</table>\n",
       "</div>"
      ],
      "text/plain": [
       "                  team  overtime_defeats\n",
       "0     Florida Panthers               124\n",
       "1        Boston Bruins               106\n",
       "2      St. Louis Blues               101\n",
       "3  Toronto Maple Leafs                96\n",
       "4   Montreal Canadiens                96\n",
       "5  Tampa Bay Lightning                96\n",
       "6      San Jose Sharks                94\n",
       "7       Calgary Flames                94\n",
       "8      Edmonton Oilers                94\n",
       "9    Los Angeles Kings                93"
      ]
     },
     "metadata": {},
     "output_type": "display_data"
    },
    {
     "name": "stdout",
     "output_type": "stream",
     "text": [
      "\n",
      "Procento týmů, které alespoň jednou prohrály v prodloužení: 91.4%\n",
      "\n",
      "Sezóna s nejvyšším počtem zápasů rozhodnutých v prodloužení:\n"
     ]
    },
    {
     "data": {
      "text/plain": [
       "season\n",
       "2009    301\n",
       "Name: overtime_defeats, dtype: Int64"
      ]
     },
     "metadata": {},
     "output_type": "display_data"
    }
   ],
   "source": [
    "import pandas as pd\n",
    "\n",
    "df[\"overtime_defeats\"] = pd.to_numeric(df[\"overtime_defeats\"], errors=\"coerce\")\n",
    "\n",
    "team_most_ot_losses = (\n",
    "    df.groupby(\"team\")[\"overtime_defeats\"]\n",
    "    .sum()\n",
    "    .sort_values(ascending=False)\n",
    "    .head(1)\n",
    ")\n",
    "print(\"Tým s nejvyšším počtem proher v prodloužení (všechna období):\")\n",
    "display(team_most_ot_losses)\n",
    "\n",
    "ranking_ot_losses = (\n",
    "    df.groupby(\"team\")[\"overtime_defeats\"]\n",
    "    .sum()\n",
    "    .sort_values(ascending=False)\n",
    "    .reset_index()\n",
    ")\n",
    "print(\"\\nŽebříček týmů podle celkového počtu proher v prodloužení:\")\n",
    "display(ranking_ot_losses.head(10))\n",
    "\n",
    "teams_with_any_ot_loss = (df.groupby(\"team\")[\"overtime_defeats\"].sum() > 0).sum()\n",
    "total_teams = df[\"team\"].nunique()\n",
    "percentage_ot_teams = (teams_with_any_ot_loss / total_teams) * 100\n",
    "\n",
    "print(f\"\\nProcento týmů, které alespoň jednou prohrály v prodloužení: {percentage_ot_teams:.1f}%\")\n",
    "\n",
    "season_most_ot_losses = (\n",
    "    df.groupby(\"season\")[\"overtime_defeats\"]\n",
    "    .sum()\n",
    "    .sort_values(ascending=False)\n",
    "    .head(1)\n",
    ")\n",
    "print(\"\\nSezóna s nejvyšším počtem zápasů rozhodnutých v prodloužení:\")\n",
    "display(season_most_ot_losses)"
   ]
  },
  {
   "cell_type": "markdown",
   "metadata": {
    "id": "zcPi9wCtNqTp"
   },
   "source": [
    "## Percentage of teams losing in overtime\n",
    "\n",
    "The result of this task should be rounded to two decimal places"
   ]
  },
  {
   "cell_type": "code",
   "execution_count": 23,
   "metadata": {
    "id": "1N5Cl_9ENqTq"
   },
   "outputs": [
    {
     "name": "stdout",
     "output_type": "stream",
     "text": [
      "Procento týmů, které alespoň jednou prohrály v prodloužení: 91.43%\n"
     ]
    }
   ],
   "source": [
    "percentage_ot_teams_rounded = round(percentage_ot_teams, 2)\n",
    "\n",
    "print(f\"Procento týmů, které alespoň jednou prohrály v prodloužení: {percentage_ot_teams_rounded}%\")"
   ]
  },
  {
   "cell_type": "markdown",
   "metadata": {
    "id": "ejQRQFcoNqTq"
   },
   "source": [
    "# `goals_ratio`\n",
    "\n",
    "Based on the variables `scored_goals` and `received_goals`, we will create a new variable - `goals_ratio`, defined as the ratio of goals scored to goals conceded.\n",
    "\n",
    "Before we proceed with solving the task, let's consider the following issues:\n",
    "- What values of the `goals_ratio` statistic can be considered indicative of good or poor team performance?\n",
    "- In what situations can we determine that a team performed better or worse based on the value of `goals_ratio`?"
   ]
  },
  {
   "cell_type": "markdown",
   "metadata": {
    "id": "KlJWg0A7NqTq"
   },
   "source": [
    "## Creating a Variable"
   ]
  },
  {
   "cell_type": "code",
   "execution_count": 24,
   "metadata": {
    "id": "gnPbUjleNqTq"
   },
   "outputs": [
    {
     "name": "stdout",
     "output_type": "stream",
     "text": [
      "Základní popisná statistika pro 'goals_ratio':\n",
      "\n"
     ]
    },
    {
     "data": {
      "text/plain": [
       "count    607.0\n",
       "mean     1.019\n",
       "std      0.187\n",
       "min      0.506\n",
       "25%      0.885\n",
       "50%      1.013\n",
       "75%      1.139\n",
       "max      1.796\n",
       "Name: goals_ratio, dtype: Float64"
      ]
     },
     "metadata": {},
     "output_type": "display_data"
    },
    {
     "name": "stdout",
     "output_type": "stream",
     "text": [
      "\n",
      "Ukázka prvních 5 záznamů:\n"
     ]
    },
    {
     "data": {
      "text/html": [
       "<div>\n",
       "<style scoped>\n",
       "    .dataframe tbody tr th:only-of-type {\n",
       "        vertical-align: middle;\n",
       "    }\n",
       "\n",
       "    .dataframe tbody tr th {\n",
       "        vertical-align: top;\n",
       "    }\n",
       "\n",
       "    .dataframe thead th {\n",
       "        text-align: right;\n",
       "    }\n",
       "</style>\n",
       "<table border=\"1\" class=\"dataframe\">\n",
       "  <thead>\n",
       "    <tr style=\"text-align: right;\">\n",
       "      <th></th>\n",
       "      <th>team</th>\n",
       "      <th>season</th>\n",
       "      <th>scored_goals</th>\n",
       "      <th>received_goals</th>\n",
       "      <th>goals_ratio</th>\n",
       "    </tr>\n",
       "  </thead>\n",
       "  <tbody>\n",
       "    <tr>\n",
       "      <th>0</th>\n",
       "      <td>Boston Bruins</td>\n",
       "      <td>1990</td>\n",
       "      <td>299</td>\n",
       "      <td>264</td>\n",
       "      <td>1.132576</td>\n",
       "    </tr>\n",
       "    <tr>\n",
       "      <th>1</th>\n",
       "      <td>Buffalo Sabres</td>\n",
       "      <td>1990</td>\n",
       "      <td>292</td>\n",
       "      <td>278</td>\n",
       "      <td>1.05036</td>\n",
       "    </tr>\n",
       "    <tr>\n",
       "      <th>2</th>\n",
       "      <td>Calgary Flames</td>\n",
       "      <td>1990</td>\n",
       "      <td>344</td>\n",
       "      <td>263</td>\n",
       "      <td>1.307985</td>\n",
       "    </tr>\n",
       "    <tr>\n",
       "      <th>3</th>\n",
       "      <td>Chicago Blackhawks</td>\n",
       "      <td>1990</td>\n",
       "      <td>284</td>\n",
       "      <td>211</td>\n",
       "      <td>1.345972</td>\n",
       "    </tr>\n",
       "    <tr>\n",
       "      <th>4</th>\n",
       "      <td>Detroit Red Wings</td>\n",
       "      <td>1990</td>\n",
       "      <td>273</td>\n",
       "      <td>298</td>\n",
       "      <td>0.916107</td>\n",
       "    </tr>\n",
       "  </tbody>\n",
       "</table>\n",
       "</div>"
      ],
      "text/plain": [
       "                 team  season  scored_goals  received_goals  goals_ratio\n",
       "0       Boston Bruins    1990           299             264     1.132576\n",
       "1      Buffalo Sabres    1990           292             278      1.05036\n",
       "2      Calgary Flames    1990           344             263     1.307985\n",
       "3  Chicago Blackhawks    1990           284             211     1.345972\n",
       "4   Detroit Red Wings    1990           273             298     0.916107"
      ]
     },
     "metadata": {},
     "output_type": "display_data"
    }
   ],
   "source": [
    "df[\"goals_ratio\"] = df[\"scored_goals\"] / df[\"received_goals\"].replace(0, pd.NA)\n",
    "\n",
    "print(\"Základní popisná statistika pro 'goals_ratio':\\n\")\n",
    "display(df[\"goals_ratio\"].describe().round(3))\n",
    "\n",
    "print(\"\\nUkázka prvních 5 záznamů:\")\n",
    "display(df[[\"team\", \"season\", \"scored_goals\", \"received_goals\", \"goals_ratio\"]].head())"
   ]
  },
  {
   "cell_type": "markdown",
   "metadata": {
    "id": "uLHn91LNNqTq"
   },
   "source": [
    "Here we will perform a basic analysis of the variable by determining statistics such as:\n",
    "- mean\n",
    "- standard deviation\n",
    "- quantiles 2, 3, 4\n",
    "\n",
    "Let's consider what can be inferred from such a summary. Based on this, can we say that this statistic has outliers?"
   ]
  },
  {
   "cell_type": "code",
   "execution_count": 25,
   "metadata": {
    "id": "I02JJJ9MNqTq"
   },
   "outputs": [
    {
     "name": "stdout",
     "output_type": "stream",
     "text": [
      "Statistická analýza proměnné 'goals_ratio':\n",
      "\n",
      "Průměr (mean): 1.019\n",
      "Směrodatná odchylka (std): 0.187\n",
      "\n",
      "Kvantily:\n",
      "  25% kvantil: 0.885\n",
      "  50% kvantil: 1.013\n",
      "  75% kvantil: 1.139\n"
     ]
    }
   ],
   "source": [
    "mean_ratio = df[\"goals_ratio\"].mean()\n",
    "std_ratio = df[\"goals_ratio\"].std()\n",
    "\n",
    "quantiles = df[\"goals_ratio\"].quantile([0.25, 0.5, 0.75])\n",
    "\n",
    "print(\"Statistická analýza proměnné 'goals_ratio':\\n\")\n",
    "print(f\"Průměr (mean): {mean_ratio:.3f}\")\n",
    "print(f\"Směrodatná odchylka (std): {std_ratio:.3f}\\n\")\n",
    "\n",
    "print(\"Kvantily:\")\n",
    "for q, v in quantiles.items():\n",
    "    print(f\"  {int(q*100)}% kvantil: {v:.3f}\")"
   ]
  },
  {
   "cell_type": "markdown",
   "metadata": {
    "id": "0mHrq1PtNqTq"
   },
   "source": [
    "## Distribution of the variable `goals_ratio`\n",
    "\n",
    "Let's generate the distribution of the variable `goals_ratio` using the `plt.hist` function from the `matplotlib` library, performing the task in two variants:\n",
    "- with the number of bins determined using Rice's Rule,\n",
    "- with the number of bins determined using the Square Root Rule.\n",
    "\n",
    "Methods and formulas for determining the number of bins in a histogram can be found at this link: [Determining the number of bins in a histogram](https://www.statology.org/sturges-rule/).\n",
    "\n",
    "**Tip:** To determine the distribution of a variable using `matplotlib`, you can use the `hist` function, available here: [Documentation for hist function](https://matplotlib.org/stable/api/_as_gen/matplotlib.pyplot.hist.html).\n",
    "\n",
    "What are the floor and ceiling of a number - [Floor and ceiling of a number - Wikipedia](https://en.wikipedia.org/wiki/Floor_and_ceiling_functions)\n",
    "> Question: How to calculate the ceiling of a number in Python without using additional libraries?"
   ]
  },
  {
   "cell_type": "markdown",
   "metadata": {
    "id": "ndwCjrelNqTq"
   },
   "source": [
    "### Histogram of the variable using Rice's rule"
   ]
  },
  {
   "cell_type": "code",
   "execution_count": 26,
   "metadata": {
    "id": "ZXg8U4JINqTq",
    "scrolled": true
   },
   "outputs": [
    {
     "data": {
      "image/png": "[encoded data removed]",
      "text/plain": [
       "<Figure size 800x500 with 1 Axes>"
      ]
     },
     "metadata": {},
     "output_type": "display_data"
    }
   ],
   "source": [
    "import matplotlib.pyplot as plt\n",
    "import numpy as np\n",
    "\n",
    "n = len(df[\"goals_ratio\"].dropna())\n",
    "\n",
    "bins_rice = int(np.ceil(2 * n ** (1/3)))\n",
    "\n",
    "plt.figure(figsize=(8, 5))\n",
    "plt.hist(df[\"goals_ratio\"], bins=bins_rice, edgecolor=\"black\", alpha=0.7)\n",
    "plt.title(f\"Distribution of 'goals_ratio' (Rice's Rule, bins={bins_rice})\", fontsize=13)\n",
    "plt.xlabel(\"Goals Ratio (scored_goals / received_goals)\")\n",
    "plt.ylabel(\"Frequency\")\n",
    "plt.grid(alpha=0.3)\n",
    "plt.show()"
   ]
  },
  {
   "cell_type": "markdown",
   "metadata": {
    "id": "8KN1inR0NqTr"
   },
   "source": [
    "### Histogram of the variable using the square root rule"
   ]
  },
  {
   "cell_type": "code",
   "execution_count": 27,
   "metadata": {
    "id": "lTGS0VFnNqTr"
   },
   "outputs": [
    {
     "data": {
      "image/png": "[encoded data removed]",
      "text/plain": [
       "<Figure size 800x500 with 1 Axes>"
      ]
     },
     "metadata": {},
     "output_type": "display_data"
    }
   ],
   "source": [
    "import matplotlib.pyplot as plt\n",
    "import numpy as np\n",
    "\n",
    "n = len(df[\"goals_ratio\"].dropna())\n",
    "\n",
    "bins_sqrt = int(np.ceil(np.sqrt(n)))\n",
    "\n",
    "plt.figure(figsize=(8, 5))\n",
    "plt.hist(df[\"goals_ratio\"], bins=bins_sqrt, edgecolor=\"black\", alpha=0.7)\n",
    "plt.title(f\"Distribution of 'goals_ratio' (Square Root Rule, bins={bins_sqrt})\", fontsize=13)\n",
    "plt.xlabel(\"Goals Ratio (scored_goals / received_goals)\")\n",
    "plt.ylabel(\"Frequency\")\n",
    "plt.grid(alpha=0.3)\n",
    "plt.show()"
   ]
  },
  {
   "cell_type": "markdown",
   "metadata": {
    "id": "oj8B3BF-NqTr"
   },
   "source": [
    "# `victory_percentage`\n",
    "\n",
    "Similar to the analysis of the variable `goals_ratio`, we will conduct an exploratory analysis of `victory_percentage` by following these steps:  \n",
    "- Determine the basic descriptive statistics, such as the mean, median, standard deviation, minimum, and maximum.  \n",
    "- Examine the distribution of the variable by using a histogram to better understand its characteristics.  \n",
    "- Check if there are any obvious subgroups of teams within the variable under analysis that could be identified based on specific criteria, such as the range of the variable's values."
   ]
  },
  {
   "cell_type": "markdown",
   "metadata": {
    "id": "BgtsZgmZNqTr"
   },
   "source": [
    "### Descriptive Statistics"
   ]
  },
  {
   "cell_type": "code",
   "execution_count": 28,
   "metadata": {
    "id": "rxhLxcc9NqTr"
   },
   "outputs": [
    {
     "name": "stdout",
     "output_type": "stream",
     "text": [
      "Descriptive statistics for 'victory_percentage':\n",
      "\n",
      "Mean (průměr): 0.457\n",
      "Median (medián): 0.463\n",
      "Standard deviation (směrodatná odchylka): 0.102\n",
      "Minimum: 0.119\n",
      "Maximum: 0.756\n"
     ]
    }
   ],
   "source": [
    "mean_vp = df[\"victory_percentage\"].mean()\n",
    "median_vp = df[\"victory_percentage\"].median()\n",
    "std_vp = df[\"victory_percentage\"].std()\n",
    "min_vp = df[\"victory_percentage\"].min()\n",
    "max_vp = df[\"victory_percentage\"].max()\n",
    "\n",
    "print(\"Descriptive statistics for 'victory_percentage':\\n\")\n",
    "print(f\"Mean (průměr): {mean_vp:.3f}\")\n",
    "print(f\"Median (medián): {median_vp:.3f}\")\n",
    "print(f\"Standard deviation (směrodatná odchylka): {std_vp:.3f}\")\n",
    "print(f\"Minimum: {min_vp:.3f}\")\n",
    "print(f\"Maximum: {max_vp:.3f}\")"
   ]
  },
  {
   "cell_type": "markdown",
   "metadata": {
    "id": "0kk70d9ONqTr"
   },
   "source": [
    "### Distribution\n",
    "\n",
    "Here we will create the distribution of the variable, but we won't be doing it in two versions. Instead, we will choose a different, arbitrary number of intervals."
   ]
  },
  {
   "cell_type": "code",
   "execution_count": 31,
   "metadata": {
    "id": "wJ-gr3rlNqTr"
   },
   "outputs": [
    {
     "data": {
      "image/png": "[encoded data removed]",
      "text/plain": [
       "<Figure size 800x500 with 1 Axes>"
      ]
     },
     "metadata": {},
     "output_type": "display_data"
    }
   ],
   "source": [
    "import matplotlib.pyplot as plt\n",
    "\n",
    "bins_custom = 20\n",
    "\n",
    "plt.figure(figsize=(8,5))\n",
    "plt.hist(df[\"victory_percentage\"], bins=bins_custom, color=\"steelblue\", edgecolor=\"black\", alpha=0.7)\n",
    "plt.title(f\"Distribution of 'victory_percentage' (bins={bins_custom})\", fontsize=13)\n",
    "plt.xlabel(\"Victory Percentage\")\n",
    "plt.ylabel(\"Frequency\")\n",
    "plt.grid(alpha=0.3)\n",
    "plt.show()"
   ]
  },
  {
   "cell_type": "markdown",
   "metadata": {
    "id": "5_evxTUhNqTr"
   },
   "source": [
    "# `goals_ratio` vs `victory_percentage`\n",
    "\n",
    "We have already analyzed `goals_ratio` and `victory_percentage` as two separate variables. Now, our task is to analyze them together to identify potential interdependencies between them.  \n",
    "  \n",
    "In this step, we will perform the following exercises:  \n",
    "- Before starting the analysis, let’s consider whether these variables might be dependent or independent of each other. What kind of relationship can be expected based on their business descriptions?  \n",
    "- We will create a scatterplot to visually represent the dependencies between these variables.  \n",
    "- We will determine the relationship between the variables based on the scatterplot.  \n",
    "- We will analyze the scatterplot to identify any outliers, paying special attention to their common distribution."
   ]
  },
  {
   "cell_type": "markdown",
   "metadata": {
    "id": "VH_qOXZ5NqTr"
   },
   "source": [
    "## Scatterplot of Variables\n",
    "\n",
    "Now let's create a scatterplot for the two analyzed variables, `goals_ratio` and `victory_percentage`. After completing this step, let's answer the following questions:  \n",
    "- What is the relationship between the variables `goals_ratio` and `victory_percentage`?  \n",
    "- Can any outliers be identified in the plot? If so, what criteria were used to identify them?"
   ]
  },
  {
   "cell_type": "code",
   "execution_count": 32,
   "metadata": {
    "id": "lXK_8q0DNqTs"
   },
   "outputs": [
    {
     "data": {
      "image/png": "[encoded data removed]",
      "text/plain": [
       "<Figure size 800x600 with 1 Axes>"
      ]
     },
     "metadata": {},
     "output_type": "display_data"
    }
   ],
   "source": [
    "import matplotlib.pyplot as plt\n",
    "\n",
    "plt.figure(figsize=(8,6))\n",
    "plt.scatter(df[\"goals_ratio\"], df[\"victory_percentage\"], alpha=0.7, edgecolor=\"black\")\n",
    "plt.title(\"Relationship between Goals Ratio and Victory Percentage\", fontsize=13)\n",
    "plt.xlabel(\"Goals Ratio (scored_goals / received_goals)\")\n",
    "plt.ylabel(\"Victory Percentage\")\n",
    "plt.grid(alpha=0.3)\n",
    "plt.show()"
   ]
  },
  {
   "cell_type": "markdown",
   "metadata": {
    "id": "5ZvXRtTSNqTs"
   },
   "source": [
    "> space for chart analysis notes"
   ]
  },
  {
   "cell_type": "markdown",
   "metadata": {
    "id": "zCARBeCZNqTs"
   },
   "source": [
    "If we have identified outlying observations at an earlier stage of analysis, let's now examine these specific cases. We will focus on outliers concerning the variables `goals_ratio` and `victory_percentage` to understand what features distinguish them.\n",
    "\n",
    "The following steps should be taken for analysis:\n",
    "1. Identify the specific outlying observations that were detected earlier.\n",
    "2. Analyze the characteristics of these observations, paying attention to their values for the variables `goals_ratio` and `victory_percentage`.\n",
    "3. Try to understand what might have caused their outlying nature. Are these instances of anomalies, or could they be the result of natural fluctuations in the data?"
   ]
  },
  {
   "cell_type": "code",
   "execution_count": 33,
   "metadata": {
    "id": "GH7QUKZsNqTs"
   },
   "outputs": [
    {
     "name": "stdout",
     "output_type": "stream",
     "text": [
      "Počet detekovaných outlierů: 7\n",
      "\n"
     ]
    },
    {
     "data": {
      "text/html": [
       "<div>\n",
       "<style scoped>\n",
       "    .dataframe tbody tr th:only-of-type {\n",
       "        vertical-align: middle;\n",
       "    }\n",
       "\n",
       "    .dataframe tbody tr th {\n",
       "        vertical-align: top;\n",
       "    }\n",
       "\n",
       "    .dataframe thead th {\n",
       "        text-align: right;\n",
       "    }\n",
       "</style>\n",
       "<table border=\"1\" class=\"dataframe\">\n",
       "  <thead>\n",
       "    <tr style=\"text-align: right;\">\n",
       "      <th></th>\n",
       "      <th>team</th>\n",
       "      <th>season</th>\n",
       "      <th>goals_ratio</th>\n",
       "      <th>victory_percentage</th>\n",
       "    </tr>\n",
       "  </thead>\n",
       "  <tbody>\n",
       "    <tr>\n",
       "      <th>151</th>\n",
       "      <td>Detroit Red Wings</td>\n",
       "      <td>1995</td>\n",
       "      <td>1.79558</td>\n",
       "      <td>0.756</td>\n",
       "    </tr>\n",
       "    <tr>\n",
       "      <th>124</th>\n",
       "      <td>Detroit Red Wings</td>\n",
       "      <td>1994</td>\n",
       "      <td>1.538462</td>\n",
       "      <td>0.688</td>\n",
       "    </tr>\n",
       "    <tr>\n",
       "      <th>133</th>\n",
       "      <td>Ottawa Senators</td>\n",
       "      <td>1994</td>\n",
       "      <td>0.672414</td>\n",
       "      <td>0.188</td>\n",
       "    </tr>\n",
       "    <tr>\n",
       "      <th>250</th>\n",
       "      <td>Atlanta Thrashers</td>\n",
       "      <td>1999</td>\n",
       "      <td>0.543131</td>\n",
       "      <td>0.171</td>\n",
       "    </tr>\n",
       "    <tr>\n",
       "      <th>85</th>\n",
       "      <td>San Jose Sharks</td>\n",
       "      <td>1992</td>\n",
       "      <td>0.52657</td>\n",
       "      <td>0.131</td>\n",
       "    </tr>\n",
       "    <tr>\n",
       "      <th>81</th>\n",
       "      <td>Ottawa Senators</td>\n",
       "      <td>1992</td>\n",
       "      <td>0.511392</td>\n",
       "      <td>0.119</td>\n",
       "    </tr>\n",
       "    <tr>\n",
       "      <th>107</th>\n",
       "      <td>Ottawa Senators</td>\n",
       "      <td>1993</td>\n",
       "      <td>0.506297</td>\n",
       "      <td>0.167</td>\n",
       "    </tr>\n",
       "  </tbody>\n",
       "</table>\n",
       "</div>"
      ],
      "text/plain": [
       "                  team  season  goals_ratio  victory_percentage\n",
       "151  Detroit Red Wings    1995      1.79558               0.756\n",
       "124  Detroit Red Wings    1994     1.538462               0.688\n",
       "133    Ottawa Senators    1994     0.672414               0.188\n",
       "250  Atlanta Thrashers    1999     0.543131               0.171\n",
       "85     San Jose Sharks    1992      0.52657               0.131\n",
       "81     Ottawa Senators    1992     0.511392               0.119\n",
       "107    Ottawa Senators    1993     0.506297               0.167"
      ]
     },
     "metadata": {},
     "output_type": "display_data"
    }
   ],
   "source": [
    "def detect_outliers_iqr(series):\n",
    "    q1 = series.quantile(0.25)\n",
    "    q3 = series.quantile(0.75)\n",
    "    iqr = q3 - q1\n",
    "    lower = q1 - 1.5 * iqr\n",
    "    upper = q3 + 1.5 * iqr\n",
    "    return series[(series < lower) | (series > upper)]\n",
    "\n",
    "out_goals = detect_outliers_iqr(df[\"goals_ratio\"])\n",
    "out_victory = detect_outliers_iqr(df[\"victory_percentage\"])\n",
    "\n",
    "outliers_df = df[df.index.isin(out_goals.index) | df.index.isin(out_victory.index)]\n",
    "\n",
    "print(f\"Počet detekovaných outlierů: {len(outliers_df)}\\n\")\n",
    "\n",
    "display(outliers_df[[\"team\", \"season\", \"goals_ratio\", \"victory_percentage\"]].sort_values(\"goals_ratio\", ascending=False).head(10))"
   ]
  },
  {
   "cell_type": "markdown",
   "metadata": {
    "id": "NO6h6DwzNqTs"
   },
   "source": [
    "# Summary\n",
    "\n",
    "In this notebook, we conducted a basic exploratory analysis of our dataset. The data was cleaned and then enriched with new variables, which we subjected to further analysis. The final step of this part is to save the processed data to a CSV file.  \n",
    "  \n",
    "**Let's save our data frame to the file:** `data/processed/hockey_teams.csv`, using a semicolon (`;`) as the column separator.\n",
    "\n",
    "Next, in the following phase of our work, we will propose betting odds based on the analyzed historical data and discuss the results of this analysis."
   ]
  },
  {
   "cell_type": "markdown",
   "metadata": {
    "id": "Pl_dg7GMNqTs"
   },
   "source": [
    "### Writing the frame to the target location\n",
    "\n",
    "- file name: `data/processed/hockey_teams.csv`,\n",
    "- column separator: `;`,\n",
    "- remember to disable index saving."
   ]
  },
  {
   "cell_type": "code",
   "execution_count": 37,
   "metadata": {
    "id": "q1P_3ueLNqTs"
   },
   "outputs": [
    {
     "name": "stdout",
     "output_type": "stream",
     "text": [
      "Data byla úspěšně uložena do souboru: C:\\Users\\mjemelka\\Desktop\\Python\\Workshop_-_files\\data\\processed\\hockey_teams.csv\n"
     ]
    }
   ],
   "source": [
    "output_path = Path(\"C:/Users/mjemelka/Desktop/Python/Workshop_-_files/data/processed/hockey_teams.csv\")\n",
    "\n",
    "\n",
    "df.to_csv(output_path, sep=\";\", index=False)\n",
    "\n",
    "print(f\"Data byla úspěšně uložena do souboru: {output_path}\")"
   ]
  },
  {
   "cell_type": "markdown",
   "metadata": {},
   "source": [
    "ZV – Zpětná vazba / Review\n",
    "Co je dobře\n",
    "Struktura analýzy je výborně promyšlená. Notebook má přirozený a logický tok od načtení dat přes čištění, přetypování, popisnou statistiku, analýzu až po vizualizace a export.\n",
    "Práce s cestami pomocí Path je správně zvolená a ukazuje, že rozumíš dobré praxi práce se strukturou projektu (data/raw, data/interim, data/processed).\n",
    "Renaming map je jasný a čitelný – proměnné jsou přejmenovány do jednotného stylu vhodného pro další zpracování.\n",
    "Datové typy převádíš korektně, používáš pd.to_numeric(errors=\"coerce\"), Int64 a float typy. To je robustní a dobře čitelný přístup.\n",
    "Kontrola chybějících dat je důsledná a přehledně vypsaná. U klíčových sloupců kontroluješ NaN, což je správně.\n",
    "Popisné statistiky jsou velmi dobře rozšířené – zahrnují nejen klasické describe(), ale i percentily od 0 do 100 %. To je přesně to, co by měl analytik udělat před hlubší interpretací.\n",
    "Analytická část má vysokou kvalitu. Vyhodnocuješ nejúspěšnější týmy, časové pokrytí dat, stabilitu účastníků i chybějící sezóny – všechny důležité pohledy na kvalitu a kontinuitu datasetu.\n",
    "Mapování historických názvů týmů (Mighty Ducks → Anaheim Ducks) je velmi dobrý a praktický krok, který dokazuje pochopení domény a přináší vyšší přesnost výsledků.\n",
    "Vizualizace jsou čisté, srozumitelné, používáš různé binning strategie (Rice’s rule, Square Root Rule), scatterplot a histogramy. Tím dobře demonstruješ pochopení rozdílných pohledů na distribuci dat.\n",
    "Outlier analýza přes IQR je dobře implementovaná, správně vymezuje extrémní hodnoty.\n",
    "Export výsledků do data/processed je v souladu s datovým workflow. Finální dataset je uložen a připraven pro další využití.\n",
    "Co zlepšit\n",
    "Duplicitní importy. Některé knihovny (pandas, matplotlib, Path) se importují vícekrát. V praxi by se měly seskupit na začátek notebooku, aby byl úvodní blok přehledný a jednotný.\n",
    "Čištění hodnot. Řádek\n",
    "df[\"overtime_defeats\"] = df[\"overtime_defeats\"].replace(\"\", 0)\n",
    "by měl být doplněn o fillna(0), aby se zachytily i prázdné NaN. Správnější varianta:\n",
    "df[\"overtime_defeats\"] = df[\"overtime_defeats\"].fillna(0).replace(\"\", 0)\n",
    "Formátování hodnot v grafech. U výhernosti (victory_percentage) by bylo vhodné zobrazit osu v procentech místo 0–1. To zpřehlední interpretaci a odpovídá tomu, jak se výhernost běžně prezentuje.\n",
    "Vizualizace bez legend. Scatterplot a histogram by snesly popisky nebo legendu. V aktuálním tvaru je nutné číst nadpisy, místo aby byly informace okamžitě z grafu patrné.\n",
    "Outlier funkce může být zjednodušena. Aktuální verze je funkční, ale dá se zpřehlednit pomocí masky:\n",
    "def detect_outliers_iqr(series):\n",
    "    q1, q3 = series.quantile([0.25, 0.75])\n",
    "    iqr = q3 - q1\n",
    "    mask = (series < q1 - 1.5 * iqr) | (series > q3 + 1.5 * iqr)\n",
    "    return series[mask]\n",
    "Výkon groupby. Při práci s kategorickými proměnnými lze přidat observed=True, což zrychlí výpočty.\n",
    "Např.\n",
    "df.groupby(\"team\", observed=True)\n",
    "Interpretace výsledků. U výstupů s průměry a rozptylem by bylo dobré přidat komentář k interpretaci („většina týmů má výhernost kolem 0.45–0.55“, „extrémní goals_ratio nad 2 značí výraznou dominanci“). Tím by notebook působil víc jako kompletní analýza než jen výpočet.\n",
    "Konzistence názvů proměnných. Místy používáš df, jinde df_raw, df_norm. Doporučuji držet jednotný pattern:\n",
    "df_raw = původní data\n",
    "df = čistá data\n",
    "df_final = po úpravách\n",
    "Jednotné výpisy. Výstupy typu print(\"Ukázka...\") nebo print(\"Základní popisná statistika...\") by mohly mít jednotný formát (např. prefix ▶ nebo číslování kroků), aby notebook působil jako jeden celek."
   ]
  }
 ],
 "metadata": {
  "colab": {
   "provenance": []
  },
  "kernelspec": {
   "display_name": "Python 3 (ipykernel)",
   "language": "python",
   "name": "python3"
  },
  "language_info": {
   "codemirror_mode": {
    "name": "ipython",
    "version": 3
   },
   "file_extension": ".py",
   "mimetype": "text/x-python",
   "name": "python",
   "nbconvert_exporter": "python",
   "pygments_lexer": "ipython3",
   "version": "3.13.5"
  }
 },
 "nbformat": 4,
 "nbformat_minor": 4
}

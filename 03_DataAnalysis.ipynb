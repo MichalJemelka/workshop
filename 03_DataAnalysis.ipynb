{
 "cells": [
  {
   "cell_type": "markdown",
   "metadata": {
    "id": "8DxYohDrNqTX"
   },
   "source": [
    "# Introduction - Exploratory Analysis\n",
    "\n",
    "In this notebook, we will conduct an analysis of the data previously prepared in the path: `data/interim/hockey_teams.json`. This file, being partially processed, is easily accessible for import and ready for more detailed analytical examination.\n",
    "\n",
    "This part of the workshop will focus on utilizing `pandas` and `matplotlib`, which were discussed during the course. The main objective is to familiarize ourselves with the dataset we are working on. Through a series of exercises:  \n",
    "- we will get to know the structure of the data,  \n",
    "- we will conduct elementary data exploration (EDA).\n",
    "\n",
    "## Column Description\n",
    "\n",
    "Below is a brief description of each column in our dataset:\n",
    "\n",
    "- **Team Name**: The name of the team participating in the match.\n",
    "- **Year**: The year in which the season takes place.\n",
    "- **Wins**: The number of matches won by the team in the given season.\n",
    "- **Losses**: The number of matches lost by the team in the given season.\n",
    "- **OT Losses**: The number of matches lost by the team in overtime in the given season.\n",
    "- **Win %**: The percentage of matches won by the team in the given season.\n",
    "- **Goals For (GF)**: The number of goals scored by the team in the given season.\n",
    "- **Goals Against (GA)**: The number of goals conceded by the team in the given season.\n",
    "- **+ / -**: The difference between the number of goals scored and conceded by the team in the given season.\n",
    "\n",
    "> Note: At this stage, certain significant simplifications were intentionally made in the analysis and they will not be explicitly mentioned, aiming for a discussion at the end of the workshop."
   ]
  },
  {
   "cell_type": "markdown",
   "metadata": {
    "id": "-vX3ioL9NqTZ"
   },
   "source": [
    "# Preparation\n",
    "\n",
    "## Import libraries\n",
    "Here, load the libraries that will be needed in the following steps"
   ]
  },
  {
   "cell_type": "code",
   "execution_count": null,
   "metadata": {
    "id": "55AHPLYHNqTZ"
   },
   "outputs": [],
   "source": []
  },
  {
   "cell_type": "markdown",
   "metadata": {
    "id": "WA7Gm4xjNqTa"
   },
   "source": [
    "# Loading the Dataset\n",
    "\n",
    "We recommend loading the raw data into a variable with the suffix `_raw`. This will avoid the need to reload the data from the beginning in case of an error, which can be a time-consuming process.  \n",
    "  \n",
    "> **Tip:** A `json` file can be easily loaded using `pandas` with the `read_json` function - [click](https://pandas.pydata.org/docs/reference/api/pandas.read_json.html)  "
   ]
  },
  {
   "cell_type": "markdown",
   "metadata": {
    "id": "xbYDSnZXNqTa"
   },
   "source": [
    "Load data from the `hockey_teams` file here"
   ]
  },
  {
   "cell_type": "code",
   "execution_count": null,
   "metadata": {
    "id": "NJ768oGnNqTa"
   },
   "outputs": [],
   "source": []
  },
  {
   "cell_type": "markdown",
   "metadata": {
    "id": "wpQxdnKsNqTa"
   },
   "source": "Check here if the data loaded correctly"
  },
  {
   "cell_type": "code",
   "execution_count": null,
   "metadata": {
    "id": "c-bBTbJ2NqTa"
   },
   "outputs": [],
   "source": []
  },
  {
   "cell_type": "markdown",
   "metadata": {
    "id": "TlHokevkNqTa"
   },
   "source": [
    "# Preliminary Data Transformation"
   ]
  },
  {
   "cell_type": "markdown",
   "metadata": {
    "id": "lNDcIA_bNqTb"
   },
   "source": [
    "## Standardizing Column Names\n",
    "\n",
    "Currently, our dataset contains original column names which, from a technical standpoint, should not contain spaces or other special characters.\n",
    "\n",
    "In this section, we will standardize and simplify the naming conventions to facilitate data processing in subsequent stages. We will apply the following column name mapping:\n",
    "\n",
    "- **Team Name** -> `team`\n",
    "- **Year** -> `season`\n",
    "- **Wins** -> `victories`\n",
    "- **Losses** -> `defeats`\n",
    "- **OT Losses** -> `overtime_defeats`\n",
    "- **Win %** -> `victory_percentage`\n",
    "- **Goals For (GF)** -> `scored_goals`\n",
    "- **Goals Against (GA)** -> `received_goals`\n",
    "- **\\+ / -** -> `goal_difference`\n",
    "\n",
    "> At this point, we recommend creating a new DataFrame without the `_raw` postfix. For example, if the data was loaded into the variable `df_raw`, we now want to work with the variable `df`, where we will modify the column names."
   ]
  },
  {
   "cell_type": "code",
   "execution_count": null,
   "metadata": {
    "id": "N7B7kFzjNqTb"
   },
   "outputs": [],
   "source": []
  },
  {
   "cell_type": "markdown",
   "metadata": {
    "id": "K_LVbkrGNqTb"
   },
   "source": [
    "## Removing Empty Values\n",
    "\n",
    "As can be observed, the `overtime_defeats` column contains many empty values, and the expected data type is `int`. Before proceeding with further analysis, this column needs to be properly prepared.\n",
    "\n",
    "To achieve this, we will perform the following steps:\n",
    "- Check which symbol is used as an indicator of an empty field.\n",
    "- Fill the empty fields with a value of 0.\n",
    "- Then convert the data type of this column to `int`.\n",
    "\n",
    "By following these steps, the `overtime_defeats` column will be ready for further analysis."
   ]
  },
  {
   "cell_type": "markdown",
   "metadata": {
    "id": "Uz6OqHKWNqTb"
   },
   "source": [
    "### Finding the Indicator of an Empty Field"
   ]
  },
  {
   "cell_type": "code",
   "execution_count": null,
   "metadata": {
    "id": "MS3IwrT4NqTb"
   },
   "outputs": [],
   "source": []
  },
  {
   "cell_type": "markdown",
   "metadata": {
    "id": "DI1cK75ZNqTb"
   },
   "source": [
    "### Overwriting Empty Values with 0"
   ]
  },
  {
   "cell_type": "code",
   "execution_count": null,
   "metadata": {
    "id": "0904MVgANqTc"
   },
   "outputs": [],
   "source": []
  },
  {
   "cell_type": "markdown",
   "metadata": {
    "id": "zcYisAP2NqTc"
   },
   "source": [
    "### Column Type Conversion"
   ]
  },
  {
   "cell_type": "code",
   "execution_count": null,
   "metadata": {
    "id": "to3ojXBiNqTc"
   },
   "outputs": [],
   "source": []
  },
  {
   "cell_type": "markdown",
   "metadata": {
    "id": "tt7ZAi2tNqTc"
   },
   "source": [
    "# Dataset Analysis\n",
    "\n",
    "In this section, we will focus on answering fundamental questions about our dataset in the context of hockey games. The goal is to become familiar with the dataset and develop an intuition about it.  \n",
    "  \n",
    "Here is a list of exercises we will perform to find answers to key questions:  \n",
    "  \n",
    "- How many teams have participated in league games over the years?  \n",
    "- What is the total number of available seasons?  \n",
    "- What is the time span of the data?  \n",
    "- Are there any suspicious or outlier values in the numerical columns?  \n",
    "  \n",
    "These exercises will help us better understand the structure and nature of our data.  "
   ]
  },
  {
   "cell_type": "markdown",
   "metadata": {
    "id": "9Zm6UdvANqTc"
   },
   "source": [
    "### Number of teams that participated in league matches\n",
    "\n",
    "Here, indicate the total number of teams available in our dataset"
   ]
  },
  {
   "cell_type": "code",
   "execution_count": null,
   "metadata": {
    "id": "uyo3Pt50NqTc"
   },
   "outputs": [],
   "source": []
  },
  {
   "cell_type": "markdown",
   "metadata": {
    "id": "nJvHLVcvNqTc"
   },
   "source": [
    "### Total number of seasons\n",
    "\n",
    "Here, indicate the total number of seasons."
   ]
  },
  {
   "cell_type": "code",
   "execution_count": null,
   "metadata": {
    "id": "UYKn01RyNqTc"
   },
   "outputs": [],
   "source": []
  },
  {
   "cell_type": "markdown",
   "metadata": {
    "id": "qTmIm-MBNqTc"
   },
   "source": [
    "### Time Span of Data\n",
    "\n",
    "Here, we will examine the availability of data for individual seasons. The analysis will be conducted in two stages:  \n",
    "- First, we will determine the time range of the data by identifying the start year (`start_year`) and the end year (`end_year`). This will allow us to establish for which seasons we have information.  \n",
    "- Next, we will look for any gaps in the time data to ensure that we have a complete set of information for each season.   "
   ]
  },
  {
   "cell_type": "markdown",
   "metadata": {
    "id": "1rLb34AKNqTd"
   },
   "source": [
    "At this point, we will determine the start year and end year of the data:"
   ]
  },
  {
   "cell_type": "code",
   "execution_count": null,
   "metadata": {
    "id": "GJPfcmuGNqTd"
   },
   "outputs": [],
   "source": []
  },
  {
   "cell_type": "markdown",
   "metadata": {
    "id": "qxMUm6BUNqTd"
   },
   "source": [
    "Here, we will check if data is present for each year within the determined range:"
   ]
  },
  {
   "cell_type": "code",
   "execution_count": null,
   "metadata": {
    "id": "hFgKd-txNqTd"
   },
   "outputs": [],
   "source": []
  },
  {
   "cell_type": "markdown",
   "metadata": {
    "id": "Lf8ZZZxZNqTd"
   },
   "source": [
    "### Analysis of Numerical Columns\n",
    "\n",
    "Here we will examine the basic descriptive statistics for numerical columns.\n",
    "\n",
    "To this end, describe and analyze the results for the following columns:\n",
    "\n",
    "- victories\n",
    "- defeats\n",
    "- overtime_defeats\n",
    "- victory_percentage\n",
    "- scored_goals\n",
    "- received_goals\n",
    "- goal_difference\n",
    "\n",
    "We are interested in the following statistics:\n",
    "- mean,\n",
    "- count,\n",
    "- standard deviation,\n",
    "- percentiles = `[0, 0.05, 0.1, 0.25, 0.5, 0.75, 0.9, 0.95, 1]`"
   ]
  },
  {
   "cell_type": "code",
   "execution_count": null,
   "metadata": {
    "id": "gE0DkfjONqTd"
   },
   "outputs": [],
   "source": []
  },
  {
   "cell_type": "markdown",
   "metadata": {
    "id": "CCrClYdKNqTd"
   },
   "source": [
    "# `team`\n",
    "\n",
    "In this section, we will conduct a series of analyses on individual teams participating in the leagues. This will allow us to identify the teams that have performed best in the competitions over the years.\n"
   ]
  },
  {
   "cell_type": "markdown",
   "metadata": {
    "id": "PvY5n2e8NqTe"
   },
   "source": [
    "## Analysis of Team Participation in League Seasons\n",
    "Let's perform the following exercises:\n",
    "\n",
    "- Check how many teams have participated in all seasons of the selected league.\n",
    "- Display the list of these teams."
   ]
  },
  {
   "cell_type": "code",
   "execution_count": null,
   "metadata": {
    "id": "iearCh4hNqTe"
   },
   "outputs": [],
   "source": []
  },
  {
   "cell_type": "markdown",
   "metadata": {
    "id": "6rKhmCPYNqTe"
   },
   "source": [
    "List of teams that participated in all seasons of hockey competitions:"
   ]
  },
  {
   "cell_type": "code",
   "execution_count": null,
   "metadata": {
    "id": "Mv9ZFNdONqTe"
   },
   "outputs": [],
   "source": []
  },
  {
   "cell_type": "markdown",
   "metadata": {
    "id": "NBkEHHVeNqTe"
   },
   "source": [
    "The number of teams that have played in all seasons:"
   ]
  },
  {
   "cell_type": "code",
   "execution_count": null,
   "metadata": {
    "id": "OT-eXQc-NqTe"
   },
   "outputs": [],
   "source": []
  },
  {
   "cell_type": "markdown",
   "metadata": {
    "id": "htxkTN4oNqTe"
   },
   "source": [
    "## Best Performing Teams in League History\n",
    "\n",
    "Let's list the five best teams with the highest average `victory_percentage` over all years, presenting the data broken down by individual teams and seasons."
   ]
  },
  {
   "cell_type": "code",
   "execution_count": null,
   "metadata": {
    "id": "NYziEKIuNqTe"
   },
   "outputs": [],
   "source": []
  },
  {
   "cell_type": "markdown",
   "metadata": {
    "id": "E4y70ShxNqTo"
   },
   "source": [
    "## Top Teams in History\n",
    "\n",
    "Let's determine the top 5 teams that have won the most league titles in entire history. Let's consider whether, based on the available data, we can identify a single team that unquestionably deserves the title of the best in history.\n",
    "\n",
    "For simplicity, let's assume that the league winner is the team with the most victories in a given season.\n",
    "\n",
    "> Hint: The information contained in the article `Pandas > Summary of the 4th Meeting > Analytical Functions` may be useful."
   ]
  },
  {
   "cell_type": "code",
   "execution_count": null,
   "metadata": {
    "id": "eFarCZV-NqTp"
   },
   "outputs": [],
   "source": []
  },
  {
   "cell_type": "markdown",
   "metadata": {
    "id": "_anGuf5yNqTp"
   },
   "source": [
    "Additionally, we will determine how many teams have **never won any season**.  \n",
    "  \n",
    "> **Note:** This task may seem more complex than it appears at first glance. Remember, during classes you can rely on the instructor's help, and outside of them - on the support of a mentor."
   ]
  },
  {
   "cell_type": "code",
   "execution_count": null,
   "metadata": {
    "id": "pnLwVZVHNqTp"
   },
   "outputs": [],
   "source": []
  },
  {
   "cell_type": "markdown",
   "metadata": {
    "id": "DbgD8WEKNqTp"
   },
   "source": [
    "# `overtime_defeats`\n",
    "\n",
    "The `overtime_defeats` variable informs us how many times a team lost in overtime throughout the year.  \n",
    "  \n",
    "In this section, we will perform the following exercises:  \n",
    "- Identify the team that most frequently lost in overtime.  \n",
    "- Rank the teams based on the number of overtime losses.  \n",
    "- Calculate what percentage of teams lost at least once in overtime.  \n",
    "- Determine the season with the highest number of games decided in overtime.  \n",
    "  \n",
    "> Let's make sure that the `overtime_defeats` column is of numeric type!  "
   ]
  },
  {
   "cell_type": "markdown",
   "metadata": {
    "id": "T_3LrsNQNqTp"
   },
   "source": [
    "## The team losing most frequently in overtime\n",
    "\n",
    "> Note: To solve this task, this article might be useful: `Pandas > Conference Summary > Analytical Functions`"
   ]
  },
  {
   "cell_type": "code",
   "execution_count": null,
   "metadata": {
    "id": "Iiv_VYjGNqTp"
   },
   "outputs": [],
   "source": []
  },
  {
   "cell_type": "markdown",
   "metadata": {
    "id": "zcPi9wCtNqTp"
   },
   "source": [
    "## Percentage of teams losing in overtime\n",
    "\n",
    "The result of this task should be rounded to two decimal places"
   ]
  },
  {
   "cell_type": "code",
   "execution_count": null,
   "metadata": {
    "id": "1N5Cl_9ENqTq"
   },
   "outputs": [],
   "source": []
  },
  {
   "cell_type": "markdown",
   "metadata": {
    "id": "ejQRQFcoNqTq"
   },
   "source": [
    "# `goals_ratio`\n",
    "\n",
    "Based on the variables `scored_goals` and `received_goals`, we will create a new variable - `goals_ratio`, defined as the ratio of goals scored to goals conceded.\n",
    "\n",
    "Before we proceed with solving the task, let's consider the following issues:\n",
    "- What values of the `goals_ratio` statistic can be considered indicative of good or poor team performance?\n",
    "- In what situations can we determine that a team performed better or worse based on the value of `goals_ratio`?"
   ]
  },
  {
   "cell_type": "markdown",
   "metadata": {
    "id": "KlJWg0A7NqTq"
   },
   "source": "## Creating a Variable"
  },
  {
   "cell_type": "code",
   "execution_count": null,
   "metadata": {
    "id": "gnPbUjleNqTq"
   },
   "outputs": [],
   "source": []
  },
  {
   "cell_type": "markdown",
   "metadata": {
    "id": "uLHn91LNNqTq"
   },
   "source": [
    "Here we will perform a basic analysis of the variable by determining statistics such as:\n",
    "- mean\n",
    "- standard deviation\n",
    "- quantiles 2, 3, 4\n",
    "\n",
    "Let's consider what can be inferred from such a summary. Based on this, can we say that this statistic has outliers?"
   ]
  },
  {
   "cell_type": "code",
   "execution_count": null,
   "metadata": {
    "id": "I02JJJ9MNqTq"
   },
   "outputs": [],
   "source": []
  },
  {
   "cell_type": "markdown",
   "metadata": {
    "id": "0mHrq1PtNqTq"
   },
   "source": [
    "## Distribution of the variable `goals_ratio`\n",
    "\n",
    "Let's generate the distribution of the variable `goals_ratio` using the `plt.hist` function from the `matplotlib` library, performing the task in two variants:\n",
    "- with the number of bins determined using Rice's Rule,\n",
    "- with the number of bins determined using the Square Root Rule.\n",
    "\n",
    "Methods and formulas for determining the number of bins in a histogram can be found at this link: [Determining the number of bins in a histogram](https://www.statology.org/sturges-rule/).\n",
    "\n",
    "**Tip:** To determine the distribution of a variable using `matplotlib`, you can use the `hist` function, available here: [Documentation for hist function](https://matplotlib.org/stable/api/_as_gen/matplotlib.pyplot.hist.html).\n",
    "\n",
    "What are the floor and ceiling of a number - [Floor and ceiling of a number - Wikipedia](https://en.wikipedia.org/wiki/Floor_and_ceiling_functions)\n",
    "> Question: How to calculate the ceiling of a number in Python without using additional libraries?"
   ]
  },
  {
   "cell_type": "markdown",
   "metadata": {
    "id": "ndwCjrelNqTq"
   },
   "source": [
    "### Histogram of the variable using Rice's rule"
   ]
  },
  {
   "cell_type": "code",
   "execution_count": null,
   "metadata": {
    "id": "ZXg8U4JINqTq"
   },
   "outputs": [],
   "source": []
  },
  {
   "cell_type": "markdown",
   "metadata": {
    "id": "8KN1inR0NqTr"
   },
   "source": [
    "### Histogram of the variable using the square root rule"
   ]
  },
  {
   "cell_type": "code",
   "execution_count": null,
   "metadata": {
    "id": "lTGS0VFnNqTr"
   },
   "outputs": [],
   "source": []
  },
  {
   "cell_type": "markdown",
   "metadata": {
    "id": "oj8B3BF-NqTr"
   },
   "source": [
    "# `victory_percentage`\n",
    "\n",
    "Similar to the analysis of the variable `goals_ratio`, we will conduct an exploratory analysis of `victory_percentage` by following these steps:  \n",
    "- Determine the basic descriptive statistics, such as the mean, median, standard deviation, minimum, and maximum.  \n",
    "- Examine the distribution of the variable by using a histogram to better understand its characteristics.  \n",
    "- Check if there are any obvious subgroups of teams within the variable under analysis that could be identified based on specific criteria, such as the range of the variable's values."
   ]
  },
  {
   "cell_type": "markdown",
   "metadata": {
    "id": "BgtsZgmZNqTr"
   },
   "source": [
    "### Descriptive Statistics"
   ]
  },
  {
   "cell_type": "code",
   "execution_count": null,
   "metadata": {
    "id": "rxhLxcc9NqTr"
   },
   "outputs": [],
   "source": []
  },
  {
   "cell_type": "markdown",
   "metadata": {
    "id": "0kk70d9ONqTr"
   },
   "source": [
    "### Distribution\n",
    "\n",
    "Here we will create the distribution of the variable, but we won't be doing it in two versions. Instead, we will choose a different, arbitrary number of intervals."
   ]
  },
  {
   "cell_type": "code",
   "execution_count": null,
   "metadata": {
    "id": "wJ-gr3rlNqTr"
   },
   "outputs": [],
   "source": []
  },
  {
   "cell_type": "markdown",
   "metadata": {
    "id": "5_evxTUhNqTr"
   },
   "source": [
    "# `goals_ratio` vs `victory_percentage`\n",
    "\n",
    "We have already analyzed `goals_ratio` and `victory_percentage` as two separate variables. Now, our task is to analyze them together to identify potential interdependencies between them.  \n",
    "  \n",
    "In this step, we will perform the following exercises:  \n",
    "- Before starting the analysis, let’s consider whether these variables might be dependent or independent of each other. What kind of relationship can be expected based on their business descriptions?  \n",
    "- We will create a scatterplot to visually represent the dependencies between these variables.  \n",
    "- We will determine the relationship between the variables based on the scatterplot.  \n",
    "- We will analyze the scatterplot to identify any outliers, paying special attention to their common distribution."
   ]
  },
  {
   "cell_type": "markdown",
   "metadata": {
    "id": "VH_qOXZ5NqTr"
   },
   "source": [
    "## Scatterplot of Variables\n",
    "\n",
    "Now let's create a scatterplot for the two analyzed variables, `goals_ratio` and `victory_percentage`. After completing this step, let's answer the following questions:  \n",
    "- What is the relationship between the variables `goals_ratio` and `victory_percentage`?  \n",
    "- Can any outliers be identified in the plot? If so, what criteria were used to identify them?"
   ]
  },
  {
   "cell_type": "code",
   "execution_count": null,
   "metadata": {
    "id": "lXK_8q0DNqTs"
   },
   "outputs": [],
   "source": []
  },
  {
   "cell_type": "markdown",
   "metadata": {
    "id": "5ZvXRtTSNqTs"
   },
   "source": [
    "> space for chart analysis notes"
   ]
  },
  {
   "cell_type": "markdown",
   "metadata": {
    "id": "zCARBeCZNqTs"
   },
   "source": [
    "If we have identified outlying observations at an earlier stage of analysis, let's now examine these specific cases. We will focus on outliers concerning the variables `goals_ratio` and `victory_percentage` to understand what features distinguish them.\n",
    "\n",
    "The following steps should be taken for analysis:\n",
    "1. Identify the specific outlying observations that were detected earlier.\n",
    "2. Analyze the characteristics of these observations, paying attention to their values for the variables `goals_ratio` and `victory_percentage`.\n",
    "3. Try to understand what might have caused their outlying nature. Are these instances of anomalies, or could they be the result of natural fluctuations in the data?"
   ]
  },
  {
   "cell_type": "code",
   "execution_count": null,
   "metadata": {
    "id": "GH7QUKZsNqTs"
   },
   "outputs": [],
   "source": []
  },
  {
   "cell_type": "markdown",
   "metadata": {
    "id": "NO6h6DwzNqTs"
   },
   "source": [
    "# Summary\n",
    "\n",
    "In this notebook, we conducted a basic exploratory analysis of our dataset. The data was cleaned and then enriched with new variables, which we subjected to further analysis. The final step of this part is to save the processed data to a CSV file.  \n",
    "  \n",
    "**Let's save our data frame to the file:** `data/processed/hockey_teams.csv`, using a semicolon (`;`) as the column separator.\n",
    "\n",
    "Next, in the following phase of our work, we will propose betting odds based on the analyzed historical data and discuss the results of this analysis."
   ]
  },
  {
   "cell_type": "markdown",
   "metadata": {
    "id": "Pl_dg7GMNqTs"
   },
   "source": [
    "### Writing the frame to the target location\n",
    "\n",
    "- file name: `data/processed/hockey_teams.csv`,\n",
    "- column separator: `;`,\n",
    "- remember to disable index saving."
   ]
  },
  {
   "cell_type": "code",
   "execution_count": null,
   "metadata": {
    "id": "q1P_3ueLNqTs"
   },
   "outputs": [],
   "source": []
  }
 ],
 "metadata": {
  "kernelspec": {
   "display_name": ".venv",
   "language": "python",
   "name": "python3"
  },
  "language_info": {
   "codemirror_mode": {
    "name": "ipython",
    "version": 3
   },
   "file_extension": ".py",
   "mimetype": "text/x-python",
   "name": "python",
   "nbconvert_exporter": "python",
   "pygments_lexer": "ipython3",
   "version": "3.12.2"
  },
  "colab": {
   "provenance": []
  }
 },
 "nbformat": 4,
 "nbformat_minor": 0
}

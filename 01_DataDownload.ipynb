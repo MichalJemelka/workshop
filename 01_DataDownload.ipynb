{
  "cells": [
    {
      "cell_type": "markdown",
      "metadata": {
        "id": "J0flaw7HdTLC"
      },
      "source": [
        "# Introduction\n",
        "\n",
        "The first step in our task is to obtain the data necessary for analysis. Since our company is in the early stages of development and does not have its own database, we intend to use publicly available resources.  \n",
        "  \n",
        "For this purpose, we have been recommended the website [Scrape This Site](https://www.scrapethissite.com/pages/forms/). However, before we start downloading data, it is important to carefully review the [FAQ](https://www.scrapethissite.com/faq/) section on the site. Particular attention should be paid to the restrictions on the number of requests, which is crucial for our solution.  \n",
        "  \n",
        "It is expected that after executing the code contained in this notebook, the `data/raw/` folder will be populated with data, which will serve as the source for the next stage of the project."
      ]
    },
    {
      "cell_type": "markdown",
      "metadata": {
        "id": "3U3qrIFCdTLF"
      },
      "source": [
        "# Notebook Configuration"
      ]
    },
    {
      "cell_type": "markdown",
      "metadata": {
        "id": "V8i_DaiDdTLF"
      },
      "source": [
        "## Importing Required Libraries"
      ]
    },
    {
      "cell_type": "code",
      "execution_count": null,
      "metadata": {
        "id": "9ppX5CyndTLG"
      },
      "outputs": [],
      "source": []
    },
    {
      "cell_type": "markdown",
      "metadata": {
        "id": "d7zC6meddTLG"
      },
      "source": [
        "## Driver and Selenium Configuration"
      ]
    },
    {
      "cell_type": "code",
      "execution_count": null,
      "metadata": {
        "id": "hbd1oYpUdTLG"
      },
      "outputs": [],
      "source": []
    },
    {
      "cell_type": "markdown",
      "metadata": {
        "id": "mgv7K-lQdTLG"
      },
      "source": [
        "# Fetching Website Content\n",
        "\n",
        "This section of the notebook contains code for fetching website content. To properly execute the task, consider the following steps:  \n",
        "- Ensure all available data on the site has been fetched by checking if there are additional data pages.  \n",
        "- Locate the data of interest on the page using `html` inspection tools.  \n",
        "- Navigate between subsequent data pages using browser mechanisms or by analyzing the `url` structure.  \n",
        "  \n",
        "> Remember to respect the query limits specified in the `FAQ`!  \n",
        "  \n",
        "Save the fetched data to the folder `data/raw/hockey_teams_page_{page_number}.html`. At this stage, we are retrieving data without processing it - analysis will be performed later.  \n",
        "  \n",
        "To fetch the `html` content of the page, you can use `browser.page_source`. Make sure the browser tool configuration (e.g., Selenium) is ready for use.  \n",
        "  \n",
        "> (Optional) If there are multiple pages to fetch, use the [zfill](https://www.programiz.com/python-programming/methods/string/zfill) function to maintain order in file names by adding leading zeros to the page numbers.\n",
        "\n"
      ]
    },
    {
      "cell_type": "code",
      "execution_count": null,
      "metadata": {
        "id": "lCOc6J3ldTLH"
      },
      "outputs": [],
      "source": []
    },
    {
      "cell_type": "markdown",
      "metadata": {
        "id": "0ycm9QC8dTLH"
      },
      "source": [
        "# Summary\n",
        "\n",
        "Downloading raw data from our source has reduced the risk of problems stemming from site updates during the extraction process. This method also offers an additional benefit: it allows easy access to the data in its original form, which is crucial if reprocessing is needed.\n",
        "\n",
        "In the next step, we will focus on extracting the necessary information from the `html` pages, which is essential for conducting the analysis."
      ]
    }
  ],
  "metadata": {
    "kernelspec": {
      "display_name": ".venv",
      "language": "python",
      "name": "python3"
    },
    "language_info": {
      "codemirror_mode": {
        "name": "ipython",
        "version": 3
      },
      "file_extension": ".py",
      "mimetype": "text/x-python",
      "name": "python",
      "nbconvert_exporter": "python",
      "pygments_lexer": "ipython3",
      "version": "3.12.2"
    },
    "colab": {
      "provenance": []
    }
  },
  "nbformat": 4,
  "nbformat_minor": 0
}
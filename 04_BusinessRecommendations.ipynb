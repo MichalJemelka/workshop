{
  "cells": [
    {
      "cell_type": "markdown",
      "metadata": {
        "id": "3Ae8YmAIV4eF"
      },
      "source": [
        "# Introduction\n",
        "\n",
        "We are now moving to the final part of the workshop, which involves formulating business recommendations. Our tasks are:\n",
        "- Determining a global betting odds,\n",
        "- Dividing the dataset into categories: A, B, C, D, where A is the best group and D is the weakest group,\n",
        "- Determining the risk of odds based on accepted parameters for each category.\n",
        "\n",
        "As the last task, in a discussion format, we must consider the fact that we are a new betting company. When formulating our recommendations, we need to identify the risks that may affect our operations. We will perform this task together in a brainstorming session."
      ]
    },
    {
      "cell_type": "markdown",
      "metadata": {
        "id": "3ZfzChhiV4eI"
      },
      "source": [
        "# Notebook Configuration"
      ]
    },
    {
      "cell_type": "markdown",
      "metadata": {
        "id": "UEPJNDadV4eI"
      },
      "source": [
        "## Import necessary libraries"
      ]
    },
    {
      "cell_type": "code",
      "execution_count": null,
      "metadata": {
        "id": "wqNexbfkV4eJ"
      },
      "outputs": [],
      "source": []
    },
    {
      "cell_type": "markdown",
      "metadata": {
        "id": "_MNSfWJHV4eJ"
      },
      "source": [
        "## Loading data into the workspace\n",
        "\n",
        "> Remember to correctly specify the column separator"
      ]
    },
    {
      "cell_type": "code",
      "execution_count": null,
      "metadata": {
        "id": "HpjNExjSV4eK"
      },
      "outputs": [],
      "source": []
    },
    {
      "cell_type": "markdown",
      "metadata": {
        "id": "T7eCQndhV4eK"
      },
      "source": [
        "### Checking data loading accuracy"
      ]
    },
    {
      "cell_type": "code",
      "execution_count": null,
      "metadata": {
        "id": "zgeGqZs2V4eK"
      },
      "outputs": [],
      "source": []
    },
    {
      "cell_type": "markdown",
      "metadata": {
        "id": "pndtXY5pV4eK"
      },
      "source": [
        "# Determining Betting Odds\n",
        "\n",
        "Let's review the content of the page: [click](https://trustbet.pl/kursy-bukmacherskie/), where information about methods for determining betting odds can be found. First, we will determine a global odd, which will be the starting point for our analysis (the so-called _baseline scenario_). At this point, we ignore the margin and assume that we are calculating the decimal odd.\n",
        "\n",
        "Here is the list of steps to be performed to obtain the desired value:\n",
        "- we will complete the definition of the `get_betting_odds` function, which will take `probability` of a given event as a parameter. We will use it multiple times, so it is worth preparing its implementation now\n",
        "- then we need to appropriately aggregate the set and determine the **global** probability of the team's victory."
      ]
    },
    {
      "cell_type": "markdown",
      "metadata": {
        "id": "Qk5tsPSaV4eK"
      },
      "source": [
        "## Implementations of the `get_betting_odds` function"
      ]
    },
    {
      "cell_type": "code",
      "execution_count": null,
      "metadata": {
        "id": "y3XCgrFwV4eL"
      },
      "outputs": [],
      "source": [
        "def get_betting_odds(probability):\n",
        "    pass"
      ]
    },
    {
      "cell_type": "markdown",
      "metadata": {
        "id": "RLhJzXudV4eL"
      },
      "source": [
        "### Some tests to check the correctness of the implementation"
      ]
    },
    {
      "cell_type": "code",
      "execution_count": null,
      "metadata": {
        "id": "1TVqIPlaV4eL"
      },
      "outputs": [],
      "source": [
        "def test_get_betting_odds():\n",
        "    assert get_betting_odds(1) == 1, \"Expected 1\"\n",
        "    assert get_betting_odds(0.5) == 2, \"Expected 2\"\n",
        "    assert get_betting_odds(0.25) == 4, \"Expected 4\"\n",
        "    assert get_betting_odds(0.1) == 10, \"Expected 10\"\n",
        "    try:\n",
        "        get_betting_odds(0)\n",
        "    except ZeroDivisionError:\n",
        "        pass\n",
        "    else:\n",
        "        assert False, \"Expected ZeroDivisionError\"\n",
        "\n",
        "    print(\"All tests passed!\")\n",
        "\n",
        "test_get_betting_odds()"
      ]
    },
    {
      "cell_type": "markdown",
      "metadata": {
        "id": "gT3AzDn0V4eM"
      },
      "source": [
        "### Determining the global odds\n",
        "\n",
        "Here, determine the probability of any team winning"
      ]
    },
    {
      "cell_type": "code",
      "execution_count": null,
      "metadata": {
        "id": "Ak8zCKjaV4eM"
      },
      "outputs": [],
      "source": []
    },
    {
      "cell_type": "markdown",
      "metadata": {
        "id": "fL2Dh6YAV4eM"
      },
      "source": [
        "Set the global rate here using the `get_betting_odds` function. Round the result to two decimal places."
      ]
    },
    {
      "cell_type": "code",
      "execution_count": null,
      "metadata": {
        "id": "wkVbEE1GV4eM"
      },
      "outputs": [],
      "source": []
    },
    {
      "cell_type": "markdown",
      "metadata": {
        "id": "MxSG96B9V4eM"
      },
      "source": [
        "# Team Categorization\n",
        "\n",
        "Let's discuss how we can classify teams into _leagues_. We want to establish 4 leagues:\n",
        "- A - league consisting of the best teams,\n",
        "- B - league consisting of good teams,\n",
        "- C - league consisting of average teams,\n",
        "- D - league consisting of the weakest teams.\n",
        "\n",
        "The above terms are quite subjective, so for the purpose of this exercise, we will adopt the following assumptions:\n",
        "- A - the top 5% of teams,\n",
        "- B - teams performing better than 70% of the group but worse than league A,\n",
        "- C - teams performing better than 20% of the group but worse than league B,\n",
        "- D - the remaining teams.\n",
        "\n",
        "To accomplish this task, we will additionally implement the function `assign_team_to_league`.\n",
        "\n",
        "> Note: This task looks unassuming, but it is difficult. Remember that during the class, you have access to the instructor, and later to a mentor."
      ]
    },
    {
      "cell_type": "markdown",
      "metadata": {
        "id": "tkA9_O80V4eN"
      },
      "source": [
        "## Determination of cutoff points for individual leagues"
      ]
    },
    {
      "cell_type": "code",
      "execution_count": null,
      "metadata": {
        "id": "A_Ek8oMGV4eN"
      },
      "outputs": [],
      "source": [
        "def assign_team_to_league(x):\n",
        "    pass"
      ]
    },
    {
      "cell_type": "code",
      "execution_count": null,
      "metadata": {
        "id": "JNe7nbB5V4eN"
      },
      "outputs": [],
      "source": []
    },
    {
      "cell_type": "markdown",
      "metadata": {
        "id": "6aSxUW-mV4eN"
      },
      "source": [
        "## Determination of odds per league\n",
        "\n",
        "Here we set the betting odds for each league, which will allow us to draw final conclusions and establish the basic odds for individual teams.\n",
        "\n",
        "> Remember: After generating the results, it is worth checking if they are reasonable."
      ]
    },
    {
      "cell_type": "code",
      "execution_count": null,
      "metadata": {
        "id": "xSyNJSpTV4eN"
      },
      "outputs": [],
      "source": []
    },
    {
      "cell_type": "markdown",
      "metadata": {
        "id": "1HuTi1-OV4eN"
      },
      "source": [
        "# Discussion\n",
        "\n",
        "We have obtained certain odds values for each league. But how does this translate into real business? The entire task was about determining certain values from which a bookmaker can begin operations. Correct determination of these values is critical to attract customers to place bets with us, and on the other hand, inappropriate determination may lead to financial losses in the first days of operation.\n",
        "\n",
        "For this reason, before translating the results and recommendations into business objectives, the analysis is subjected to discussion. Therefore, we will now take on a review role and would like to verify the steps. To that end, we will collectively discuss and critique our work by answering the following questions together:\n",
        "- What elements of the analysis were simplified? What was omitted in the analysis?\n",
        "- Are there any inconsistencies in the estimated odds? What are they?\n",
        "- How can we improve the odds estimates?\n",
        "- How can we enrich our initial dataset to make the estimates more accurate and less risky?\n",
        "- How can we simulate the outcomes of our analysis to verify that they do not lead to financial losses?\n",
        "\n",
        "This is a discussion panel, and every idea is valuable here.\n"
      ]
    }
  ],
  "metadata": {
    "kernelspec": {
      "display_name": ".venv",
      "language": "python",
      "name": "python3"
    },
    "language_info": {
      "codemirror_mode": {
        "name": "ipython",
        "version": 3
      },
      "file_extension": ".py",
      "mimetype": "text/x-python",
      "name": "python",
      "nbconvert_exporter": "python",
      "pygments_lexer": "ipython3",
      "version": "3.12.2"
    },
    "colab": {
      "provenance": []
    }
  },
  "nbformat": 4,
  "nbformat_minor": 0
}